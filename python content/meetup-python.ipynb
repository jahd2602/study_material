{
 "cells": [
  {
   "cell_type": "code",
   "execution_count": 5,
   "metadata": {},
   "outputs": [
    {
     "name": "stdout",
     "output_type": "stream",
     "text": [
      "Synchronous:\n",
      "Start at at 0.0 seconds\n",
      "Task 1 done\n",
      "Task 2 done\n",
      "Task 3 done\n",
      "Task 4 done\n",
      "Task 5 done\n",
      "Task 6 done\n",
      "Task 7 done\n",
      "Task 8 done\n",
      "Task 9 done\n",
      "Done at at 7.5 seconds\n",
      "Asynchronous:\n",
      "Start at at 0.0 seconds\n",
      "Task 2 done\n",
      "Task 6 done\n",
      "Task 9 done\n",
      "Task 1 done\n",
      "Task 5 done\n",
      "Task 8 done\n",
      "Task 3 done\n",
      "Task 4 done\n",
      "Task 7 done\n",
      "Done at at 2.0 seconds\n"
     ]
    }
   ],
   "source": [
    "import random\n",
    "import time\n",
    "import asyncio\n",
    "\n",
    "def tic():\n",
    "    return 'at %1.1f seconds' % (time.time() - start)\n",
    "\n",
    "def task(pid):\n",
    "    \"\"\"Synchronous non-deterministic task.\"\"\"\n",
    "    time.sleep(random.randint(0, 5) * 0.5)\n",
    "    print('Task %s done' % pid)\n",
    "\n",
    "\n",
    "async def task_coro(pid):\n",
    "    \"\"\"Coroutine non-deterministic task\"\"\"\n",
    "    await asyncio.sleep(random.randint(0, 5) * 0.5)\n",
    "    print('Task %s done' % pid)\n",
    "\n",
    "\n",
    "def synchronous(): # call this function 10 times\n",
    "    for i in range(1, 10):\n",
    "        task(i)\n",
    "\n",
    "async def asynchronous(): # call 10 differents coroutines\n",
    "    tasks = [task_coro(i) for i in range(1, 10)]\n",
    "    await asyncio.gather(*tasks) # multiple functions at the same time\n",
    "\n",
    "\n",
    "print('Synchronous:')\n",
    "start=time.time()\n",
    "print(f'Start at {tic()}')\n",
    "synchronous()\n",
    "print(f'Done at {tic()}')\n",
    "\n",
    "print('Asynchronous:')\n",
    "start=time.time()\n",
    "print(f'Start at {tic()}')\n",
    "await asynchronous()\n",
    "print(f'Done at {tic()}')\n"
   ]
  }
 ],
 "metadata": {
  "kernelspec": {
   "display_name": "Python 3",
   "language": "python",
   "name": "python3"
  },
  "language_info": {
   "codemirror_mode": {
    "name": "ipython",
    "version": 3
   },
   "file_extension": ".py",
   "mimetype": "text/x-python",
   "name": "python",
   "nbconvert_exporter": "python",
   "pygments_lexer": "ipython3",
   "version": "3.8.12"
  }
 },
 "nbformat": 4,
 "nbformat_minor": 2
}

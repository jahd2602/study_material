{
 "cells": [
  {
   "cell_type": "markdown",
   "metadata": {},
   "source": [
    "# Is Unique:\n",
    "\n",
    "Implement an algorithm to determine if a string has all unique characters. \n",
    "\n",
    "#1 try hash table\n",
    "#2 could a bit vector be useful?\n",
    "#3 can you solve it in O(N log N) time? What might a solution like that look like?\n",
    "\n",
    "steps.\n",
    "1st: compute the key's hash code.\n",
    "2nd: map the hash code to an index in the array (hash(key)% array_lenght)\n",
    "3rd: At this indx, there is a linked list of keys and values. Store the key and value in this index"
   ]
  },
  {
   "cell_type": "code",
   "execution_count": 70,
   "metadata": {},
   "outputs": [
    {
     "name": "stdout",
     "output_type": "stream",
     "text": [
      "{'b': 1, 'a': 3, 'n': 2}\n",
      "1\n",
      "3\n",
      "False\n",
      "{'o': 1, 'r': 1, 'e': 1, 'l': 1, 'h': 1, 'a': 1}\n",
      "1\n",
      "1\n",
      "1\n",
      "1\n",
      "1\n",
      "1\n",
      "True\n",
      "{'b': 1, 'a': 1, 's': 1, 'h': 1}\n",
      "1\n",
      "1\n",
      "1\n",
      "1\n",
      "True\n"
     ]
    }
   ],
   "source": [
    "def isUnique(str):\n",
    "  ,\n",
    "    # pegar string de entrada e converter em hashtable\n",
    "    for char in str:\n",
    "        if char in my_dic:\n",
    "            pass\n",
    "        else:\n",
    "            my_dic[char] = 0\n",
    "        my_dic[char] += 1\n",
    "    \n",
    "    print(my_dic)\n",
    "\n",
    "    # se alguma chave tiver o valor > 2, retorna falso\n",
    "    for k, v in enumerate(my_dic):\n",
    "        print(my_dic[v])\n",
    "        if my_dic[v] >= 2:\n",
    "            return False\n",
    "    \n",
    "    return True\n",
    "\n",
    "\n",
    "print(isUnique('banana'))\n",
    "print(isUnique('orelha'))\n",
    "print(isUnique('bash'))\n"
   ]
  },
  {
   "cell_type": "code",
   "execution_count": 72,
   "metadata": {},
   "outputs": [
    {
     "name": "stdout",
     "output_type": "stream",
     "text": [
      "True\n"
     ]
    }
   ],
   "source": [
    "def isUnique(str):\n",
    "    if(len(str) > 128):\n",
    "        return False\n",
    "\n",
    "    charHash = [False]*128\n",
    "    for itr in range(len(str)):\n",
    "        charCode = ord(str[itr])\n",
    "        if(charHash[charCode]):\n",
    "            # return False if character already found\n",
    "            return False\n",
    "\n",
    "        # Change value to True for newly found character\n",
    "        charHash[charCode] = True\n",
    "\n",
    "    return True\n",
    "\n",
    "\n",
    "inpStr = \"teamo\"\n",
    "print(isUnique(inpStr))\n"
   ]
  },
  {
   "cell_type": "markdown",
   "metadata": {},
   "source": [
    "# Check Permutation:\n",
    "\n",
    "Given two strings , write a method to decide if one is a permutation of the other.\n"
   ]
  },
  {
   "cell_type": "code",
   "execution_count": 32,
   "metadata": {},
   "outputs": [
    {
     "name": "stdout",
     "output_type": "stream",
     "text": [
      "True\n",
      "False\n"
     ]
    }
   ],
   "source": [
    "def checkPermutation(stringOne, stringTwo):\n",
    "    sortedOne = sorted(stringOne)\n",
    "    sortedTwo = sorted(stringTwo)\n",
    "\n",
    "    if sortedOne == sortedTwo:\n",
    "        return True\n",
    "    return False\n",
    "\n",
    "    print(sortedOne, sortedTwo)\n",
    "\n",
    "print(checkPermutation(\"karen\", \"nerak\"))\n",
    "print(checkPermutation(\"jairo\", \"nerak\"))\n"
   ]
  },
  {
   "cell_type": "markdown",
   "metadata": {},
   "source": [
    "# URLify\n",
    "\n",
    "Write a method to replace all spaces in string with '%20'. you may assume that the string has sufficient space at the end to hold the additional characters, and that you are given the 'true' lenght of the string\n",
    "\n",
    "e.g.: \n",
    "input = 'Mr John Smith', 13\n",
    "output = 'Mr%20John%20Smith'\n"
   ]
  },
  {
   "cell_type": "code",
   "execution_count": 33,
   "metadata": {},
   "outputs": [
    {
     "name": "stdout",
     "output_type": "stream",
     "text": [
      "Mr%20John%20Smith\n"
     ]
    }
   ],
   "source": [
    "def urlify(str):\n",
    "    return str.replace(' ', '%20')\n",
    "\n",
    "print(urlify('Mr John Smith'))"
   ]
  },
  {
   "cell_type": "markdown",
   "metadata": {},
   "source": [
    "# Palindrome Permutation\n",
    "\n",
    "Given a string, write a function to check if it is a permutation of a palindrome. A palindrome is a word or phrase that is the same forwards and backwards. A permutation is a rearrangement of letters.The palindrome does not need to be limited to just dictionary words. You can ignore casing and non-letter characters.\n",
    "\n",
    "EXAMPLE\n",
    "Input: Tact Coa\n",
    "Output: True (permutations: “taco cat”. “atco cta”. etc.)"
   ]
  },
  {
   "cell_type": "code",
   "execution_count": 38,
   "metadata": {},
   "outputs": [
    {
     "name": "stdout",
     "output_type": "stream",
     "text": [
      "True\n"
     ]
    }
   ],
   "source": [
    "def is_palindrome(s):\n",
    "    char_count = {}\n",
    "    s = s.lower()\n",
    "    for char in s:\n",
    "        if not ('a' <= char <= 'z'):\n",
    "            continue\n",
    "\n",
    "        char_count[char] = char_count.get(char, 0) + 1\n",
    "\n",
    "    counts = list(char_count.values())\n",
    "\n",
    "    odd_counts = 0\n",
    "    for count in counts:\n",
    "        if count % 2 != 0:\n",
    "            odd_counts += 1\n",
    "\n",
    "        if odd_counts > 1:\n",
    "            return False\n",
    "\n",
    "    return True\n",
    "\n",
    "\n",
    "\n",
    "print(is_palindrome('radar'))"
   ]
  },
  {
   "cell_type": "markdown",
   "metadata": {},
   "source": [
    "# One way\n",
    "\n",
    "Problem:\n",
    "  There are three types of edits that can performed on strings:\n",
    "  insert a character, remove a charachter, or replace a character.\n",
    "  Given two strings, write a function to check if they are one edit (or zero edits) away.\n",
    "\n",
    "* Example:\n",
    " *   pale, ple   -> true\n",
    " *   pales, pale -> true\n",
    " *   pale, bale  -> true\n",
    " *   pale, bake  -> false"
   ]
  },
  {
   "cell_type": "code",
   "execution_count": null,
   "metadata": {},
   "outputs": [],
   "source": [
    "def one_way(stringOne, stringTwo):\n",
    "    "
   ]
  }
 ],
 "metadata": {
  "kernelspec": {
   "display_name": "Python 3",
   "language": "python",
   "name": "python3"
  },
  "language_info": {
   "codemirror_mode": {
    "name": "ipython",
    "version": 3
   },
   "file_extension": ".py",
   "mimetype": "text/x-python",
   "name": "python",
   "nbconvert_exporter": "python",
   "pygments_lexer": "ipython3",
   "version": "3.8.12"
  },
  "orig_nbformat": 4
 },
 "nbformat": 4,
 "nbformat_minor": 2
}

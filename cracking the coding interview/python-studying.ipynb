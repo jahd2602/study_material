{
 "cells": [
  {
   "cell_type": "markdown",
   "metadata": {},
   "source": [
    "# Is unique:\n",
    "\n",
    "Implement an algorithm to determine if a string has all unique character. What if you cannot use additional data structure?\n",
    "\n",
    "* 1 fazer uma iteração do elemento até o último elelmento;\n",
    "* 2 fazer a comparação do primeiro elemento com os elementos seguintes até o final;\n",
    "-- se o elemento 1 for igual a um elemento seguinte, retorna falso\n",
    "* 3 repetir o segundo passo, porém vai deslizando os elementos;\n",
    "* 4 se fez todas as iterações e não tem nenhum elemento repetido, retorne true.\n"
   ]
  },
  {
   "cell_type": "code",
   "execution_count": 86,
   "metadata": {},
   "outputs": [
    {
     "name": "stdout",
     "output_type": "stream",
     "text": [
      "False\n",
      "------\n",
      "True\n"
     ]
    }
   ],
   "source": [
    "def is_unique(str):\n",
    "    lower_case = str.lower()\n",
    "\n",
    "    # fazer uma iteração do elemento até o último elelmento;\n",
    "    for index, char in enumerate(lower_case):\n",
    "        # print(lower_case[char], lower_case[char+1:])\n",
    "        subString = lower_case[index+1:]\n",
    "        # fazer a comparação do primeiro elemento com os elementos seguintes até o final;\n",
    "        for sub in subString:\n",
    "            # se o elemento 1 for igual a um elemento seguinte, retorna falso  \n",
    "            if char == sub:\n",
    "                return False    \n",
    "    # se fez todas as iterações e não tem nenhum elemento repetido, retorne true.\n",
    "    return True   \n",
    "\n",
    "\n",
    "    \n",
    "print(is_unique(\"Nala\"))\n",
    "print('------')\n",
    "print(is_unique(\"Amor\"))"
   ]
  },
  {
   "cell_type": "code",
   "execution_count": 36,
   "metadata": {},
   "outputs": [
    {
     "name": "stdout",
     "output_type": "stream",
     "text": [
      " \n",
      "a\n",
      "a\n",
      "e\n",
      "j\n",
      "l\n",
      "m\n",
      "p\n",
      "r\n",
      "None\n"
     ]
    }
   ],
   "source": [
    "# bit vector\n",
    "def is_unique(str):\n",
    "    lower_case = str.lower()\n",
    "    count = [0] * 26 # bit vector\n",
    "\n",
    "    for char in sorted(lower_case):\n",
    "        count[ord(char) - ord('a')] += 1\n",
    "    \n",
    "    print(count)\n",
    "\n",
    "    for item in count:\n",
    "        print(item)\n",
    "        if item >= 2:\n",
    "            return False\n",
    "        return True\n",
    "\n",
    "    \n",
    "    \n",
    "print(is_unique(\"Pearl Jam\"))\n",
    "# print('------')\n",
    "# print(is_unique(\"ACDC\"))\n",
    "# print('------')\n",
    "# print(is_unique(\"Pink Floyd\"))\n",
    "# print('------')\n",
    "# print(is_unique(\"Aeroshmith\"))\n",
    "# print('------')\n",
    "# print(is_unique(\"The Who\"))"
   ]
  },
  {
   "cell_type": "code",
   "execution_count": 85,
   "metadata": {},
   "outputs": [
    {
     "name": "stdout",
     "output_type": "stream",
     "text": [
      "False\n",
      "------\n",
      "True\n"
     ]
    }
   ],
   "source": [
    "def is_unique(str):\n",
    "    lower_case = str.lower()\n",
    "\n",
    "    # fazer uma iteração do elemento até o último elelmento;\n",
    "    for char in range(len(lower_case)):\n",
    "        # print(lower_case[char], lower_case[char+1:])\n",
    "        subString = lower_case[char+1:]\n",
    "        # fazer a comparação do primeiro elemento com os elementos seguintes até o final;\n",
    "        for sub in range(len(subString)):\n",
    "            # se o elemento 1 for igual a um elemento seguinte, retorna falso  \n",
    "            if lower_case[char] == subString[sub]:\n",
    "                return False    \n",
    "    # se fez todas as iterações e não tem nenhum elemento repetido, retorne true.\n",
    "    return True     \n",
    "    \n",
    "print(is_unique(\"Nala\"))\n",
    "print('------')\n",
    "print(is_unique(\"Amor\"))"
   ]
  },
  {
   "cell_type": "markdown",
   "metadata": {},
   "source": [
    "  # Check Permutation: \n",
    "  Given two strings, write a method to decide if one is a permutation of the other.\n",
    "\n",
    "Hints:\n",
    " * - 1: Describe what it means for to strings to be a permutation of each other. Now, look at that definition you provided. Can you check the strings against that definition?\n",
    " * - 84: There is one solution that is O(N log N) time. Another solution uses some space, bu is O(N) time.\n",
    " * - 122: Could a hash table be useful?\n",
    " * - 131: Two strings that are permutations should have the same characters, but in different orders. Can you make the orders the same?\n",
    " "
   ]
  },
  {
   "cell_type": "code",
   "execution_count": 127,
   "metadata": {},
   "outputs": [
    {
     "name": "stdout",
     "output_type": "stream",
     "text": [
      "True True\n",
      "False False\n",
      "True False\n",
      "False False\n",
      "True True\n"
     ]
    }
   ],
   "source": [
    "# O(N)\n",
    "\n",
    "def check_permutation(strOne, strTwo):\n",
    "    if len(strOne) != len(strTwo):\n",
    "        return False\n",
    "\n",
    "    # create an empty objects to each string\n",
    "    objOne = {}\n",
    "    objTwo = {}\n",
    "\n",
    "    # interate each string to add for each object\n",
    "    for k in strOne:\n",
    "        # if the dic has the element, increment 1 value\n",
    "        if k in objOne:\n",
    "            objOne[k] += 1\n",
    "        else:\n",
    "            objOne[k] = 1\n",
    "\n",
    "    for k in strTwo:\n",
    "        # if the dic has the element, increment 1 value\n",
    "        if k in objTwo:\n",
    "            objTwo[k] += 1\n",
    "        else:\n",
    "            objTwo[k] = 1\n",
    "\n",
    "    # compare the both objects, if are equal return true\n",
    "    if objOne == objTwo:\n",
    "        return True\n",
    "    return False\n",
    "\n",
    "\n",
    "print(check_permutation('ma', 'ma'), 'True')\n",
    "print(check_permutation('ma', 'Ma'), 'False')\n",
    "print(check_permutation('ma', 'am'), 'False')\n",
    "print(check_permutation('banana', 'bacana'), 'False')\n",
    "print(check_permutation('love', 'velo'), 'True')\n"
   ]
  },
  {
   "cell_type": "code",
   "execution_count": null,
   "metadata": {},
   "outputs": [],
   "source": [
    "# O(N log N)\n",
    "\n",
    "def checkPermutation(stringOne, stringTwo):\n",
    "    sortedOne = sorted(stringOne)\n",
    "    sortedTwo = sorted(stringTwo)\n",
    "\n",
    "    if sortedOne == sortedTwo:\n",
    "        return True\n",
    "    return False\n",
    "\n",
    "    print(sortedOne, sortedTwo)\n",
    "\n",
    "print(checkPermutation(\"karen\", \"nerak\"))\n",
    "print(checkPermutation(\"jairo\", \"nerak\"))"
   ]
  },
  {
   "cell_type": "markdown",
   "metadata": {},
   "source": [
    "# URLify \n",
    "(Write a method to replace all spaces in a string with '%20').\n",
    "You may assume that the string has sufficient space at the end to hold the additional characters, and that you are given the \"true\" length of the string.\n",
    "(Note: if implementing in java, please use a character array so that you can perform this operation in place.)\n",
    "Example:\n",
    "Input: “Mr john Smith    \"\n",
    "Output: “Mr%20John%20Smith”"
   ]
  },
  {
   "cell_type": "code",
   "execution_count": 8,
   "metadata": {},
   "outputs": [
    {
     "name": "stdout",
     "output_type": "stream",
     "text": [
      "31 35 2\n",
      "28\n",
      "19\n",
      "www.google.com/test%20urlify%20code\n"
     ]
    }
   ],
   "source": [
    "from typing import List\n",
    "\n",
    "def urlify(url: List[str], trueLength: int) -> bool:\n",
    "    spaceCount = 0\n",
    "    for char in url:\n",
    "        spaceCount += 1 if char == ' ' else 0\n",
    "\n",
    "    index = trueLength + (spaceCount * 2)\n",
    "\n",
    "    url = url + ['']*spaceCount * 2 # increasing List size\n",
    "    # print(trueLength, index, spaceCount)\n",
    "\n",
    "    for x in range(trueLength - 1, -1, -1):\n",
    "        if(url[x] == \" \"):\n",
    "            url[index - 1] = \"0\"\n",
    "            url[index - 2] = \"2\"\n",
    "            url[index - 3] = \"%\"\n",
    "            index -= 3\n",
    "            # print(index)\n",
    "        else:\n",
    "            url[index - 1] = url[x]\n",
    "            index -= 1\n",
    "    \n",
    "    return \"\".join(url)\n",
    "\n",
    "\n",
    "url = \"www.google.com/test urlify code\"\n",
    "print(urlify(list(url),len(url)))\n",
    "# Output: www.google.com/test%20urlify%20code\n"
   ]
  },
  {
   "cell_type": "code",
   "execution_count": 19,
   "metadata": {},
   "outputs": [
    {
     "name": "stdout",
     "output_type": "stream",
     "text": [
      "www.google.com/test%20urlify%20code\n"
     ]
    }
   ],
   "source": [
    "def urlify(url):\n",
    "    return url.replace(\" \", \"%20\")\n",
    "    \n",
    "    \n",
    "\n",
    "url = \"www.google.com/test urlify code\"\n",
    "print(urlify(url))"
   ]
  },
  {
   "cell_type": "markdown",
   "metadata": {},
   "source": [
    "# Palindrome Permutation: \n",
    "Given a string, write a function to check if it is a permutation of a palindrome. A palindrome is a word or phrase that is the same forwards and backwards. A permutation is a rearrangement of letters.The palindrome does not need to be limited to just dictionary words. You can ignore casing and non-letter characters.\n",
    "\n",
    "EXAMPLE\n",
    "Input: Tact Coa\n",
    "Output: True (permutations: “taco cat”. “atco cta”. etc.)"
   ]
  },
  {
   "cell_type": "code",
   "execution_count": 25,
   "metadata": {},
   "outputs": [
    {
     "name": "stdout",
     "output_type": "stream",
     "text": [
      "[2, 0, 2, 0, 0, 0, 0, 0, 0, 0, 0, 0, 0, 0, 1, 0, 0, 0, 0, 2, 0, 0, 0, 0, 0, 0]\n",
      "True\n",
      "[0, 2, 0, 0, 3, 0, 0, 0, 0, 0, 0, 1, 0, 0, 0, 0, 0, 0, 0, 0, 1, 0, 0, 0, 0, 0]\n",
      "True\n",
      "[2, 0, 0, 0, 0, 0, 0, 2, 0, 0, 0, 0, 0, 2, 0, 0, 0, 0, 0, 0, 0, 0, 0, 0, 0, 0]\n",
      "True\n",
      "[2, 0, 2, 0, 0, 0, 0, 0, 0, 0, 0, 2, 0, 0, 2, 0, 0, 0, 0, 0, 0, 0, 0, 0, 0, 0]\n",
      "True\n"
     ]
    }
   ],
   "source": [
    "def palindromePermutation(s):\n",
    "    # Using a bit vector \n",
    "    odd_count = 0\n",
    "    s = s.lower().replace(\" \", \"\")\n",
    "    count = [0] * 26 # bit vector - 26 letter in the alphabet\n",
    "    # print(count) # 26 bytes \n",
    "\n",
    "    # print(ord('a')) # 97 char in SCII\n",
    "    for char in s:\n",
    "        count[ord(char) - ord('a')] += 1\n",
    "    print(count)\n",
    "    for item in count:\n",
    "        if item % 2 == 1:\n",
    "            odd_count += 1\n",
    "        if odd_count > 1:\n",
    "            return False\n",
    "        return True\n",
    "    \n",
    "\n",
    "\n",
    "\n",
    "s = 'Tact coa'\n",
    "t = 'bluebee'\n",
    "u = 'hannah'\n",
    "v = 'colaloca'\n",
    "\n",
    "print(palindromePermutation(s))\n",
    "print(palindromePermutation(t))\n",
    "print(palindromePermutation(u))\n",
    "print(palindromePermutation(v))\n"
   ]
  },
  {
   "cell_type": "markdown",
   "metadata": {},
   "source": []
  },
  {
   "cell_type": "code",
   "execution_count": null,
   "metadata": {},
   "outputs": [],
   "source": []
  },
  {
   "cell_type": "markdown",
   "metadata": {},
   "source": []
  },
  {
   "cell_type": "code",
   "execution_count": null,
   "metadata": {},
   "outputs": [],
   "source": []
  },
  {
   "cell_type": "markdown",
   "metadata": {},
   "source": []
  }
 ],
 "metadata": {
  "kernelspec": {
   "display_name": "Python 3",
   "language": "python",
   "name": "python3"
  },
  "language_info": {
   "codemirror_mode": {
    "name": "ipython",
    "version": 3
   },
   "file_extension": ".py",
   "mimetype": "text/x-python",
   "name": "python",
   "nbconvert_exporter": "python",
   "pygments_lexer": "ipython3",
   "version": "3.8.12"
  },
  "orig_nbformat": 4
 },
 "nbformat": 4,
 "nbformat_minor": 2
}

{
 "cells": [
  {
   "cell_type": "markdown",
   "metadata": {},
   "source": [
    "# Is unique:\n",
    "\n",
    "Implement an algorithm to determine if a string has all unique character. What if you cannot use additional data structure?\n",
    "\n",
    "* 1 fazer uma iteração do elemento até o último elelmento;\n",
    "* 2 fazer a comparação do primeiro elemento com os elementos seguintes até o final;\n",
    "-- se o elemento 1 for igual a um elemento seguinte, retorna falso\n",
    "* 3 repetir o segundo passo, porém vai deslizando os elementos;\n",
    "* 4 se fez todas as iterações e não tem nenhum elemento repetido, retorne true.\n"
   ]
  },
  {
   "cell_type": "code",
   "execution_count": 86,
   "metadata": {},
   "outputs": [
    {
     "name": "stdout",
     "output_type": "stream",
     "text": [
      "False\n",
      "------\n",
      "True\n"
     ]
    }
   ],
   "source": [
    "def is_unique(str):\n",
    "    lower_case = str.lower()\n",
    "\n",
    "    # fazer uma iteração do elemento até o último elelmento;\n",
    "    for index, char in enumerate(lower_case):\n",
    "        # print(lower_case[char], lower_case[char+1:])\n",
    "        subString = lower_case[index+1:]\n",
    "        # fazer a comparação do primeiro elemento com os elementos seguintes até o final;\n",
    "        for sub in subString:\n",
    "            # se o elemento 1 for igual a um elemento seguinte, retorna falso  \n",
    "            if char == sub:\n",
    "                return False    \n",
    "    # se fez todas as iterações e não tem nenhum elemento repetido, retorne true.\n",
    "    return True   \n",
    "\n",
    "\n",
    "    \n",
    "print(is_unique(\"Nala\"))\n",
    "print('------')\n",
    "print(is_unique(\"Amor\"))"
   ]
  },
  {
   "cell_type": "code",
   "execution_count": 85,
   "metadata": {},
   "outputs": [
    {
     "name": "stdout",
     "output_type": "stream",
     "text": [
      "False\n",
      "------\n",
      "True\n"
     ]
    }
   ],
   "source": [
    "def is_unique(str):\n",
    "    lower_case = str.lower()\n",
    "\n",
    "    # fazer uma iteração do elemento até o último elelmento;\n",
    "    for char in range(len(lower_case)):\n",
    "        # print(lower_case[char], lower_case[char+1:])\n",
    "        subString = lower_case[char+1:]\n",
    "        # fazer a comparação do primeiro elemento com os elementos seguintes até o final;\n",
    "        for sub in range(len(subString)):\n",
    "            # se o elemento 1 for igual a um elemento seguinte, retorna falso  \n",
    "            if lower_case[char] == subString[sub]:\n",
    "                return False    \n",
    "    # se fez todas as iterações e não tem nenhum elemento repetido, retorne true.\n",
    "    return True     \n",
    "    \n",
    "print(is_unique(\"Nala\"))\n",
    "print('------')\n",
    "print(is_unique(\"Amor\"))"
   ]
  },
  {
   "cell_type": "markdown",
   "metadata": {},
   "source": [
    "  # Check Permutation: \n",
    "  Given two strings, write a method to decide if one is a permutation of the other.\n",
    "\n",
    "Hints:\n",
    " * - 1: Describe what it means for to strings to be a permutation of each other. Now, look at that definition you provided. Can you check the strings against that definition?\n",
    " * - 84: There is one solution that is O(N log N) time. Another solution uses some space, bu is O(N) time.\n",
    " * - 122: Could a hash table be useful?\n",
    " * - 131: Two strings that are permutations should have the same characters, but in different orders. Can you make the orders the same?\n",
    " "
   ]
  },
  {
   "cell_type": "code",
   "execution_count": 127,
   "metadata": {},
   "outputs": [
    {
     "name": "stdout",
     "output_type": "stream",
     "text": [
      "True True\n",
      "False False\n",
      "True False\n",
      "False False\n",
      "True True\n"
     ]
    }
   ],
   "source": [
    "# O(N)\n",
    "\n",
    "def check_permutation(strOne, strTwo):\n",
    "    if len(strOne) != len(strTwo):\n",
    "        return False\n",
    "\n",
    "    # create an empty objects to each string\n",
    "    objOne = {}\n",
    "    objTwo = {}\n",
    "\n",
    "    # interate each string to add for each object\n",
    "    for k in strOne:\n",
    "        # if the dic has the element, increment 1 value\n",
    "        if k in objOne:\n",
    "            objOne[k] += 1\n",
    "        else:\n",
    "            objOne[k] = 1\n",
    "\n",
    "    for k in strTwo:\n",
    "        # if the dic has the element, increment 1 value\n",
    "        if k in objTwo:\n",
    "            objTwo[k] += 1\n",
    "        else:\n",
    "            objTwo[k] = 1\n",
    "\n",
    "    # compare the both objects, if are equal return true\n",
    "    if objOne == objTwo:\n",
    "        return True\n",
    "    return False\n",
    "\n",
    "\n",
    "print(check_permutation('ma', 'ma'), 'True')\n",
    "print(check_permutation('ma', 'Ma'), 'False')\n",
    "print(check_permutation('ma', 'am'), 'False')\n",
    "print(check_permutation('banana', 'bacana'), 'False')\n",
    "print(check_permutation('love', 'velo'), 'True')\n"
   ]
  },
  {
   "cell_type": "code",
   "execution_count": null,
   "metadata": {},
   "outputs": [],
   "source": [
    "# O(N log N)\n",
    "\n",
    "def checkPermutation(stringOne, stringTwo):\n",
    "    sortedOne = sorted(stringOne)\n",
    "    sortedTwo = sorted(stringTwo)\n",
    "\n",
    "    if sortedOne == sortedTwo:\n",
    "        return True\n",
    "    return False\n",
    "\n",
    "    print(sortedOne, sortedTwo)\n",
    "\n",
    "print(checkPermutation(\"karen\", \"nerak\"))\n",
    "print(checkPermutation(\"jairo\", \"nerak\"))"
   ]
  },
  {
   "cell_type": "code",
   "execution_count": null,
   "metadata": {},
   "outputs": [],
   "source": [
    "\n"
   ]
  },
  {
   "cell_type": "code",
   "execution_count": null,
   "metadata": {},
   "outputs": [],
   "source": []
  },
  {
   "cell_type": "markdown",
   "metadata": {},
   "source": []
  },
  {
   "cell_type": "code",
   "execution_count": null,
   "metadata": {},
   "outputs": [],
   "source": []
  },
  {
   "cell_type": "markdown",
   "metadata": {},
   "source": []
  },
  {
   "cell_type": "code",
   "execution_count": null,
   "metadata": {},
   "outputs": [],
   "source": []
  },
  {
   "cell_type": "markdown",
   "metadata": {},
   "source": []
  },
  {
   "cell_type": "code",
   "execution_count": null,
   "metadata": {},
   "outputs": [],
   "source": []
  },
  {
   "cell_type": "markdown",
   "metadata": {},
   "source": []
  }
 ],
 "metadata": {
  "kernelspec": {
   "display_name": "Python 3",
   "language": "python",
   "name": "python3"
  },
  "language_info": {
   "codemirror_mode": {
    "name": "ipython",
    "version": 3
   },
   "file_extension": ".py",
   "mimetype": "text/x-python",
   "name": "python",
   "nbconvert_exporter": "python",
   "pygments_lexer": "ipython3",
   "version": "3.8.12"
  },
  "orig_nbformat": 4
 },
 "nbformat": 4,
 "nbformat_minor": 2
}

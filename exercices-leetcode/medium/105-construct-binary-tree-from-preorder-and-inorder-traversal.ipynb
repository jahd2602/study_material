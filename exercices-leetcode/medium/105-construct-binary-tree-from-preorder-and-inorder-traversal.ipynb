{
 "cells": [
  {
   "cell_type": "code",
   "execution_count": 7,
   "metadata": {},
   "outputs": [
    {
     "name": "stdout",
     "output_type": "stream",
     "text": [
      "<__main__.TreeNode object at 0x1118ebbe0>\n"
     ]
    }
   ],
   "source": [
    "# 105. Construct Binary Tree from Preorder and Inorder Traversal\n",
    "\n",
    "# Definition for a binary tree node.\n",
    "from typing import Optional\n",
    "\n",
    "\n",
    "class TreeNode:\n",
    "    def __init__(self, val=0, left=None, right=None):\n",
    "        self.val = val\n",
    "        self.left = left\n",
    "        self.right = right\n",
    "\n",
    "class Solution:\n",
    "    def buildTree(self, preorder: [int], inorder: [int]) -> Optional[TreeNode]:\n",
    "        if len(preorder) == 0:\n",
    "                return None\n",
    "        root = TreeNode(preorder[0])\n",
    "        inorder_root_index = inorder.index(root.val)\n",
    "        inorder_left = inorder[0:inorder_root_index]\n",
    "        inorder_right = inorder[inorder_root_index + 1: ]\n",
    "        preorder = preorder[1 : ]\n",
    "        preorder_left = preorder[0:len(inorder_left)]\n",
    "        preorder_right = preorder[len(inorder_left) : ]\n",
    "        root.left = self.buildTree(preorder_left, inorder_left)\n",
    "        root.right = self.buildTree(preorder_right, inorder_right)\n",
    "\n",
    "        return root\n",
    "\n",
    "print(Solution().buildTree([3,9,20,15,7], [9,3,15,20,7]))"
   ]
  }
 ],
 "metadata": {
  "kernelspec": {
   "display_name": "Python 3",
   "language": "python",
   "name": "python3"
  },
  "language_info": {
   "codemirror_mode": {
    "name": "ipython",
    "version": 3
   },
   "file_extension": ".py",
   "mimetype": "text/x-python",
   "name": "python",
   "nbconvert_exporter": "python",
   "pygments_lexer": "ipython3",
   "version": "3.8.12"
  },
  "orig_nbformat": 4
 },
 "nbformat": 4,
 "nbformat_minor": 2
}

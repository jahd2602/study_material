{
 "cells": [
  {
   "cell_type": "markdown",
   "metadata": {},
   "source": [
    "\n",
    "The parameter weekday is True if it is a weekday, and the parameter vacation is True if we are on vacation. We sleep in if it is not a weekday or we're on vacation. Return True if we sleep in.\n",
    "\n",
    "\n",
    "sleep_in(False, False) → True\n",
    "sleep_in(True, False) → False\n",
    "sleep_in(False, True) → True"
   ]
  },
  {
   "cell_type": "code",
   "execution_count": null,
   "metadata": {},
   "outputs": [
    {
     "data": {
      "text/plain": [
       "True"
      ]
     },
     "execution_count": 1,
     "metadata": {},
     "output_type": "execute_result"
    }
   ],
   "source": [
    "def sleep_in(weekday, vacation):\n",
    "  if not weekday or vacation:\n",
    "    return True\n",
    "  else:\n",
    "    return False\n",
    "\n",
    "\n",
    "sleep_in(False, False)\n",
    "sleep_in(True, False)\n",
    "sleep_in(False, True)"
   ]
  },
  {
   "cell_type": "markdown",
   "metadata": {},
   "source": [
    "Warmup-1 > monkey_trouble\n",
    "prev  |  next  |  chance\n",
    "We have two monkeys, a and b, and the parameters a_smile and b_smile indicate if each is smiling. We are in trouble if they are both smiling or if neither of them is smiling. Return True if we are in trouble.\n",
    "\n",
    "\n",
    "monkey_trouble(True, True) → True\n",
    "monkey_trouble(False, False) → True\n",
    "monkey_trouble(True, False) → False"
   ]
  },
  {
   "cell_type": "code",
   "execution_count": null,
   "metadata": {},
   "outputs": [],
   "source": [
    "def monkey_trouble(a_smile, b_smile):\n",
    "  if a_smile and b_smile:\n",
    "    return True\n",
    "  elif not a_smile and not b_smile:\n",
    "    return True\n",
    "  else:\n",
    "    return False\n",
    "  "
   ]
  },
  {
   "cell_type": "markdown",
   "metadata": {},
   "source": [
    "\n",
    "Given two int values, return their sum. Unless the two values are the same, then return double their sum.\n",
    "\n",
    "\n",
    "sum_double(1, 2) → 3\n",
    "sum_double(3, 2) → 5\n",
    "sum_double(2, 2) → 8"
   ]
  },
  {
   "cell_type": "code",
   "execution_count": null,
   "metadata": {},
   "outputs": [],
   "source": [
    "def sum_double(a, b):\n",
    "  if a != b:\n",
    "    return a + b\n",
    "  else:\n",
    "    return (a + b)* 2 \n",
    "  "
   ]
  },
  {
   "cell_type": "markdown",
   "metadata": {},
   "source": [
    "\n",
    "Given an int n, return the absolute difference between n and 21, except return double the absolute difference if n is over 21.\n",
    "\n",
    "\n",
    "diff21(19) → 2\n",
    "diff21(10) → 11\n",
    "diff21(21) → 0"
   ]
  },
  {
   "cell_type": "code",
   "execution_count": null,
   "metadata": {},
   "outputs": [],
   "source": [
    "def diff21(n):\n",
    "  if n >= 21:\n",
    "    return (n - 21)*2\n",
    "  else:\n",
    "    return 21 - n"
   ]
  },
  {
   "cell_type": "markdown",
   "metadata": {},
   "source": [
    "We have a loud talking parrot. The \"hour\" parameter is the current hour time in the range 0..23. We are in trouble if the parrot is talking and the hour is before 7 or after 20. Return True if we are in trouble.\n",
    "\n",
    "\n",
    "parrot_trouble(True, 6) → True\n",
    "parrot_trouble(True, 7) → False\n",
    "parrot_trouble(False, 6) → False"
   ]
  },
  {
   "cell_type": "code",
   "execution_count": null,
   "metadata": {},
   "outputs": [],
   "source": [
    "def parrot_trouble(talking, hour):\n",
    "  if talking:\n",
    "    if hour < 7 or hour > 20:\n",
    "      return True\n",
    "    else:\n",
    "      return False\n",
    "      \n",
    "  elif not talking:\n",
    "    if hour <= 7 or hour >= 20:\n",
    "      return False\n",
    "    else:\n",
    "      return True"
   ]
  },
  {
   "cell_type": "markdown",
   "metadata": {},
   "source": [
    "Given 2 ints, a and b, return True if one if them is 10 or if their sum is 10.\n",
    "\n",
    "makes10(9, 10) → True\n",
    "makes10(9, 9) → False\n",
    "makes10(1, 9) → True"
   ]
  },
  {
   "cell_type": "code",
   "execution_count": null,
   "metadata": {},
   "outputs": [],
   "source": [
    "def makes10(a, b):\n",
    "  if a + b == 10 or a == 10 or b == 10:\n",
    "    return True\n",
    "  else:\n",
    "    return False\n"
   ]
  },
  {
   "cell_type": "markdown",
   "metadata": {},
   "source": [
    "Given an int n, return True if it is within 10 of 100 or 200. Note: abs(num) computes the absolute value of a number.\n",
    "\n",
    "near_hundred(93) → True\n",
    "near_hundred(90) → True\n",
    "near_hundred(89) → False"
   ]
  },
  {
   "cell_type": "code",
   "execution_count": null,
   "metadata": {},
   "outputs": [],
   "source": [
    "def near_hundred(n):\n",
    "   return ((abs(100 -n) <= 10) or (abs(200 - n) <= 10))\n",
    "    \n"
   ]
  },
  {
   "cell_type": "markdown",
   "metadata": {},
   "source": [
    "Given 2 int values, return True if one is negative and one is positive. Except if the parameter \"negative\" is True, then return True only if both are negative.\n",
    "\n",
    "\n",
    "pos_neg(1, -1, False) → True\n",
    "pos_neg(-1, 1, False) → True\n",
    "pos_neg(-4, -5, True) → True"
   ]
  },
  {
   "cell_type": "code",
   "execution_count": null,
   "metadata": {},
   "outputs": [],
   "source": [
    "def pos_neg(a, b, negative):\n",
    "  if negative:\n",
    "    return ( a < 0 and b < 0)\n",
    "      \n",
    "  else:\n",
    "    return ((a < 0 and b > 0) or (a > 0 and b < 0))"
   ]
  },
  {
   "cell_type": "markdown",
   "metadata": {},
   "source": [
    "Given a string, return a new string where \"not \" has been added to the front. However, if the string already begins with \"not\", return the string unchanged.\n",
    "\n",
    "\n",
    "not_string('candy') → 'not candy'\n",
    "not_string('x') → 'not x'\n",
    "not_string('not bad') → 'not bad'"
   ]
  },
  {
   "cell_type": "code",
   "execution_count": null,
   "metadata": {},
   "outputs": [],
   "source": [
    "def not_string(str):\n",
    "    if str[:3] != \"not\":\n",
    "        return \"not \" + str\n",
    "    else:\n",
    "        return str"
   ]
  },
  {
   "cell_type": "markdown",
   "metadata": {},
   "source": [
    "Given a non-empty string and an int n, return a new string where the char at index n has been removed. The value of n will be a valid index of a char in the original string (i.e. n will be in the range 0..len(str)-1 inclusive).\n",
    "\n",
    "\n",
    "missing_char('kitten', 1) → 'ktten'\n",
    "missing_char('kitten', 0) → 'itten'\n",
    "missing_char('kitten', 4) → 'kittn'"
   ]
  },
  {
   "cell_type": "code",
   "execution_count": null,
   "metadata": {},
   "outputs": [
    {
     "data": {
      "text/plain": [
       "'ktten'"
      ]
     },
     "execution_count": 10,
     "metadata": {},
     "output_type": "execute_result"
    }
   ],
   "source": [
    "def missing_char(str, n):\n",
    "  front = str[:n]   # up to but not including n\n",
    "  back = str[n+1:]  # n+1 through end of string\n",
    "  return front + back\n",
    "    \n",
    "missing_char('kitten', 1)"
   ]
  },
  {
   "cell_type": "markdown",
   "metadata": {},
   "source": [
    "Given a string, return a new string where the first and last chars have been exchanged.\n",
    "\n",
    "front_back('code') → 'eodc'\n",
    "front_back('a') → 'a'\n",
    "front_back('ab') → 'ba'"
   ]
  },
  {
   "cell_type": "code",
   "execution_count": null,
   "metadata": {},
   "outputs": [
    {
     "name": "stdout",
     "output_type": "stream",
     "text": [
      "eodc\n",
      "a\n",
      "ba\n",
      "cba\n",
      "ehocolatc\n",
      "java\n",
      "oellh\n",
      "\n"
     ]
    }
   ],
   "source": [
    "def front_back(str):\n",
    "    if len(str) >= 2:\n",
    "        first = str[0]\n",
    "        last = str[-1]\n",
    "        temp = ''\n",
    "\n",
    "        temp = last\n",
    "        last = first\n",
    "        first = temp\n",
    "        middle = str[1:-1]\n",
    "        string = first + middle + last\n",
    "        return string\n",
    "    elif len(str) == 0:\n",
    "        return ''\n",
    "    else:\n",
    "        return str\n",
    "\n",
    "print(front_back('code'))\n",
    "print(front_back('a'))\n",
    "print(front_back('ab'))\n",
    "print(front_back('abc'))\n",
    "print(front_back('chocolate'))\n",
    "print(front_back('aavj'))\n",
    "print(front_back('hello'))\n",
    "print(front_back(''))"
   ]
  },
  {
   "cell_type": "markdown",
   "metadata": {},
   "source": [
    "Given a string, we'll say that the front is the first 3 chars of the string. If the string length is less than 3, the front is whatever is there. Return a new string which is 3 copies of the front.\n",
    "\n",
    "front3('Java') → 'JavJavJav'\n",
    "front3('Chocolate') → 'ChoChoCho'\n",
    "front3('abc') → 'abcabcabc'"
   ]
  },
  {
   "cell_type": "code",
   "execution_count": null,
   "metadata": {},
   "outputs": [
    {
     "name": "stdout",
     "output_type": "stream",
     "text": [
      "JavJavJav\n",
      "ChoChoCho\n",
      "abcabcabc\n",
      "ababab\n",
      "\n"
     ]
    }
   ],
   "source": [
    "def front3(str):\n",
    "    return str[:3] * 3\n",
    "\n",
    "print(front3('Java'))\n",
    "print(front3('Chocolate'))\n",
    "print(front3('abc'))\n",
    "print(front3('ab'))\n",
    "print(front3(''))"
   ]
  },
  {
   "cell_type": "markdown",
   "metadata": {},
   "source": [
    "Given a string and a non-negative int n, return a larger string that is n copies of the original string.\n",
    "\n",
    "string_times('Hi', 2) → 'HiHi'\n",
    "string_times('Hi', 3) → 'HiHiHi'\n",
    "string_times('Hi', 1) → 'Hi'"
   ]
  },
  {
   "cell_type": "code",
   "execution_count": null,
   "metadata": {},
   "outputs": [
    {
     "name": "stdout",
     "output_type": "stream",
     "text": [
      "HiHi\n",
      "HiHiHi\n",
      "Hi\n",
      "\n"
     ]
    }
   ],
   "source": [
    "def string_times(str, n):\n",
    "    return str * n\n",
    "\n",
    "print(string_times('Hi', 2))\n",
    "print(string_times('Hi', 3))\n",
    "print(string_times('Hi', 1))\n",
    "print(string_times('Hi', 0))\n"
   ]
  },
  {
   "cell_type": "markdown",
   "metadata": {},
   "source": [
    "Given a string and a non-negative int n, we'll say that the front of the string is the first 3 chars, or whatever is there if the string is less than length 3. Return n copies of the front;\n",
    "\n",
    "front_times('Chocolate', 2) → 'ChoCho'\n",
    "front_times('Chocolate', 3) → 'ChoChoCho'\n",
    "front_times('Abc', 3) → 'AbcAbcAbc'"
   ]
  },
  {
   "cell_type": "code",
   "execution_count": null,
   "metadata": {},
   "outputs": [
    {
     "name": "stdout",
     "output_type": "stream",
     "text": [
      "ChoCho\n",
      "ChoChoCho\n",
      "AbcAbcAbc\n",
      "\n"
     ]
    }
   ],
   "source": [
    "def front_times(str, n):\n",
    "    return str[:3] * n\n",
    "\n",
    "  \n",
    "\n",
    "print(front_times('Chocolate', 2))\n",
    "print(front_times('Chocolate', 3))\n",
    "print(front_times('Abc', 3))\n",
    "print(front_times('Hi', 0))"
   ]
  },
  {
   "cell_type": "markdown",
   "metadata": {},
   "source": [
    "Given a string, return a new string made of every other char starting with the first, so \"Hello\" yields \"Hlo\".\n",
    "\n",
    "string_bits('Hello') → 'Hlo'\n",
    "string_bits('Hi') → 'H'\n",
    "string_bits('Heeololeo') → 'Hello'"
   ]
  },
  {
   "cell_type": "code",
   "execution_count": null,
   "metadata": {},
   "outputs": [
    {
     "name": "stdout",
     "output_type": "stream",
     "text": [
      "Hlo\n",
      "H\n",
      "Hello\n",
      "\n"
     ]
    }
   ],
   "source": [
    "def string_bits(str):\n",
    "    string = \"\"\n",
    "\n",
    "    for i in range(len(str)):\n",
    "        if i % 2 == 0:\n",
    "            string = string + str[i]\n",
    "    return string\n",
    "\n",
    "\n",
    "print(string_bits('Hello'))\n",
    "print(string_bits('Hi'))\n",
    "print(string_bits('Heeololeo'))\n",
    "print(string_bits(''))"
   ]
  },
  {
   "cell_type": "markdown",
   "metadata": {},
   "source": [
    "Given a non-empty string like \"Code\" return a string like \"CCoCodCode\".\n",
    "\n",
    "string_splosion('Code') → 'CCoCodCode'\n",
    "string_splosion('abc') → 'aababc'\n",
    "string_splosion('ab') → 'aab'"
   ]
  },
  {
   "cell_type": "code",
   "execution_count": null,
   "metadata": {},
   "outputs": [
    {
     "data": {
      "text/plain": [
       "'aab'"
      ]
     },
     "execution_count": 7,
     "metadata": {},
     "output_type": "execute_result"
    }
   ],
   "source": [
    "def string_splosion(str):\n",
    "    new = ''\n",
    "    for l in range(len(str)):\n",
    "        new += str[:l+1]\n",
    "    \n",
    "    return new\n",
    "\n",
    "string_splosion(\"Code\")\n",
    "string_splosion(\"abc\")\n",
    "string_splosion(\"ab\")\n"
   ]
  },
  {
   "cell_type": "markdown",
   "metadata": {},
   "source": [
    "Given a string, return the count of the number of times that a substring length 2 appears in the string and also as the last 2 chars of the string, so \"hixxxhi\" yields 1 (we won't count the end substring).\n",
    "\n",
    "\n",
    "last2('hixxhi') → 1\n",
    "last2('xaxxaxaxx') → 1\n",
    "last2('axxxaaxx') → 2"
   ]
  },
  {
   "cell_type": "code",
   "execution_count": null,
   "metadata": {},
   "outputs": [
    {
     "name": "stdout",
     "output_type": "stream",
     "text": [
      "2\n",
      "0\n",
      "0\n"
     ]
    }
   ],
   "source": [
    "def last2(str):\n",
    "\n",
    "    if len(str) <= 1:\n",
    "        return 0\n",
    "    \n",
    "    lastTwo = str[-2:]\n",
    "    count = 0\n",
    "    for i in range(len(str[:-1])):\n",
    "        new = str[i] + str[i+1]\n",
    "        if new == lastTwo:\n",
    "            count += 1\n",
    "    \n",
    "    return count -1\n",
    "\n",
    "last2('hixxhi')\n",
    "last2('xaxxaxaxx') \n",
    "print(last2('axxxaaxx'))\n",
    "print(last2('h'))\n",
    "print(last2(''))"
   ]
  },
  {
   "cell_type": "code",
   "execution_count": null,
   "metadata": {},
   "outputs": [
    {
     "data": {
      "text/plain": [
       "1"
      ]
     },
     "execution_count": 8,
     "metadata": {},
     "output_type": "execute_result"
    }
   ],
   "source": [
    "def last2(str):\n",
    "  # Screen out too-short string case.\n",
    "  if len(str) < 2:\n",
    "    return 0\n",
    "  \n",
    "  # last 2 chars, can be written as str[-2:]\n",
    "  last2 = str[len(str)-2:]\n",
    "  count = 0\n",
    "  \n",
    "  # Check each substring length 2 starting at i\n",
    "  for i in range(len(str)-2):\n",
    "    sub = str[i:i+2]\n",
    "    if sub == last2:\n",
    "      count = count + 1\n",
    "\n",
    "  return count\n",
    "\n",
    "last2('hixxhi') "
   ]
  },
  {
   "cell_type": "markdown",
   "metadata": {},
   "source": [
    "Given an array of ints, return the number of 9's in the array.\n",
    "\n",
    "array_count9([1, 2, 9]) → 1\n",
    "array_count9([1, 9, 9]) → 2\n",
    "array_count9([1, 9, 9, 3, 9]) → 3"
   ]
  },
  {
   "cell_type": "code",
   "execution_count": null,
   "metadata": {},
   "outputs": [
    {
     "data": {
      "text/plain": [
       "3"
      ]
     },
     "execution_count": 14,
     "metadata": {},
     "output_type": "execute_result"
    }
   ],
   "source": [
    "def array_count9(nums):\n",
    "    count = 0\n",
    "\n",
    "    for i in range(len(nums)):\n",
    "        if nums[i] == 9:\n",
    "            count += 1\n",
    "\n",
    "    return count\n",
    "\n",
    "array_count9([1, 2, 9])\n",
    "array_count9([1, 9, 9])\n",
    "array_count9([1, 9, 9, 3, 9])"
   ]
  },
  {
   "cell_type": "markdown",
   "metadata": {},
   "source": [
    "Given an array of ints, return True if one of the first 4 elements in the array is a 9. The array length may be less than 4.\n",
    "\n",
    "array_front9([1, 2, 9, 3, 4]) → True\n",
    "array_front9([1, 2, 3, 4, 9]) → False\n",
    "array_front9([1, 2, 3, 4, 5]) → False"
   ]
  },
  {
   "cell_type": "code",
   "execution_count": null,
   "metadata": {},
   "outputs": [],
   "source": [
    "def array_front9(nums):\n",
    "    final = 4\n",
    "\n",
    "    if len(nums) <= final:\n",
    "        final = len(nums)\n",
    "        \n",
    "    for i in range(final):\n",
    "        print(i, nums[i])\n",
    "        if nums[i] == 9:\n",
    "            return True\n",
    "            \n",
    "    return False\n",
    "\n",
    "\n",
    "    \n",
    "print(array_front9([1, 2, 9, 3, 4]))\n",
    "print(\"-----\")\n",
    "print(array_front9([1, 2, 3, 4, 9]))\n",
    "print(\"-----\")\n",
    "print(array_front9([1, 2, 3, 4, 5]))\n",
    "print(\"-----\")\n",
    "print(array_front9([1, 2, 9]))\n",
    "print(\"-----\")\n",
    "print(array_front9([1]))"
   ]
  },
  {
   "cell_type": "markdown",
   "metadata": {},
   "source": [
    "Given an array of ints, return True if the sequence of numbers 1, 2, 3 appears in the array somewhere.\n",
    "\n",
    "array123([1, 1, 2, 3, 1]) → True\n",
    "array123([1, 1, 2, 4, 1]) → False\n",
    "array123([1, 1, 2, 1, 2, 3]) → True"
   ]
  },
  {
   "cell_type": "code",
   "execution_count": null,
   "metadata": {},
   "outputs": [],
   "source": [
    "def array123(nums):\n",
    "    sequence = [1,2,3]\n",
    "\n",
    "    for i in range(len(nums)-2):\n",
    "        compare = [nums[i], nums[i+1], nums[i+2]]\n",
    "        print(compare)\n",
    "        if sequence == compare:\n",
    "            return True\n",
    "\n",
    "    return False\n",
    "\n",
    "\n",
    "print(\"----- exemplo 1\")\n",
    "print(array123([1, 1, 2, 3, 1]))\n",
    "print(\"----- exemplo 2\")\n",
    "print(array123([1, 1, 2, 4, 1]))\n",
    "print(\"----- exemplo 3\")\n",
    "print(array123([1, 1, 2, 1, 2, 3]))"
   ]
  },
  {
   "cell_type": "markdown",
   "metadata": {},
   "source": [
    "Given 2 strings, a and b, return the number of the positions where they contain the same length 2 substring. So \"xxcaazz\" and \"xxbaaz\" yields 3, since the \"xx\", \"aa\", and \"az\" substrings appear in the same place in both strings.\n",
    "\n",
    "string_match('xxcaazz', 'xxbaaz') → 3\n",
    "string_match('abc', 'abc') → 2\n",
    "string_match('abc', 'axc') → 0"
   ]
  },
  {
   "cell_type": "code",
   "execution_count": null,
   "metadata": {},
   "outputs": [],
   "source": [
    "def string_match(a, b):\n",
    "    count = 0\n",
    "    shorter = min(len(a), len(b))\n",
    "\n",
    "    for i in range(shorter-1):\n",
    "        subA = a[i:i+2]\n",
    "        subB = b[i:i+2]\n",
    "        print(\"subA\", subA, \"subB\", subB)\n",
    "\n",
    "        if subA == subB:\n",
    "            count += 1\n",
    "\n",
    "    return count\n",
    "\n",
    "print('exemplo 1 -----')\n",
    "print(string_match('xxcaazz', 'xxbaaz'))\n",
    "print('exemplo 2 -----')\n",
    "print(string_match('abc', 'abc'))\n",
    "print('exemplo 3 -----')\n",
    "print(string_match('abc', 'axc') )\n"
   ]
  },
  {
   "cell_type": "markdown",
   "metadata": {},
   "source": [
    "Given a string name, e.g. \"Bob\", return a greeting of the form \"Hello Bob!\".\n",
    "\n",
    "hello_name('Bob') → 'Hello Bob!'\n",
    "hello_name('Alice') → 'Hello Alice!'\n",
    "hello_name('X') → 'Hello X!'"
   ]
  },
  {
   "cell_type": "code",
   "execution_count": 145,
   "metadata": {},
   "outputs": [
    {
     "name": "stdout",
     "output_type": "stream",
     "text": [
      "Hello Bob!\n",
      "Hello Alice!\n",
      "Hello X!\n"
     ]
    }
   ],
   "source": [
    "def hello_name(name):\n",
    "    greeting = \"Hello \" + name + \"!\"\n",
    "    return greeting \n",
    "\n",
    "\n",
    "print(hello_name('Bob'))\n",
    "print(hello_name('Alice'))\n",
    "print(hello_name('X'))\n"
   ]
  },
  {
   "cell_type": "markdown",
   "metadata": {},
   "source": [
    "Given two strings, a and b, return the result of putting them together in the order abba, e.g. \"Hi\" and \"Bye\" returns \"HiByeByeHi\".\n",
    "\n",
    "make_abba('Hi', 'Bye') → 'HiByeByeHi'\n",
    "make_abba('Yo', 'Alice') → 'YoAliceAliceYo'\n",
    "make_abba('What', 'Up') → 'WhatUpUpWhat'"
   ]
  },
  {
   "cell_type": "code",
   "execution_count": 146,
   "metadata": {},
   "outputs": [
    {
     "name": "stdout",
     "output_type": "stream",
     "text": [
      "HiByeByeHi\n",
      "YoAliceAliceYo\n",
      "WhatUpUpWhat\n"
     ]
    }
   ],
   "source": [
    "def make_abba(a, b):\n",
    "    together = a + b + b + a\n",
    "    return together\n",
    "  \n",
    "print(make_abba('Hi', 'Bye'))\n",
    "print(make_abba('Yo', 'Alice'))\n",
    "print(make_abba('What', 'Up'))\n"
   ]
  },
  {
   "cell_type": "markdown",
   "metadata": {},
   "source": [
    "The web is built with HTML strings like \"<i>Yay</i>\" which draws Yay as italic text. In this example, the \"i\" tag makes <i> and </i> which surround the word \"Yay\". Given tag and word strings, create the HTML string with tags around the word, e.g. \"<i>Yay</i>\".\n",
    "\n",
    "make_tags('i', 'Yay') → '<i>Yay</i>'\n",
    "make_tags('i', 'Hello') → '<i>Hello</i>'\n",
    "make_tags('cite', 'Yay') → '<cite>Yay</cite>'"
   ]
  },
  {
   "cell_type": "code",
   "execution_count": 149,
   "metadata": {},
   "outputs": [
    {
     "name": "stdout",
     "output_type": "stream",
     "text": [
      "<i>Yay</i>\n",
      "<i>Hello</i>\n",
      "<cite>Yay</cite>\n"
     ]
    }
   ],
   "source": [
    "def make_tags(tag, word):\n",
    "    openTag = \"<\" + tag + \">\"\n",
    "    closeTag = \"</\" + tag + \">\"\n",
    "    return openTag + word + closeTag\n",
    "  \n",
    "\n",
    "print(make_tags('i', 'Yay'))\n",
    "print(make_tags('i', 'Hello'))\n",
    "print(make_tags('cite', 'Yay'))\n"
   ]
  },
  {
   "cell_type": "markdown",
   "metadata": {},
   "source": [
    "Given an \"out\" string length 4, such as \"<<>>\", and a word, return a new string where the word is in the middle of the out string, e.g. \"<<word>>\".\n",
    "\n",
    "make_out_word('<<>>', 'Yay') → '<<Yay>>'\n",
    "make_out_word('<<>>', 'WooHoo') → '<<WooHoo>>'\n",
    "make_out_word('[[]]', 'word') → '[[word]]"
   ]
  },
  {
   "cell_type": "code",
   "execution_count": 151,
   "metadata": {},
   "outputs": [
    {
     "name": "stdout",
     "output_type": "stream",
     "text": [
      "<<Yay>>\n",
      "<<WooHoo>>\n",
      "[[word]]\n"
     ]
    }
   ],
   "source": [
    "def make_out_word(out, word):\n",
    "    openTag = out[:2] \n",
    "    closeTag = out[2:]\n",
    "\n",
    "    return openTag + word + closeTag\n",
    "  \n",
    "print(make_out_word('<<>>', 'Yay'))\n",
    "print(make_out_word('<<>>', 'WooHoo'))\n",
    "print(make_out_word('[[]]', 'word'))\n"
   ]
  },
  {
   "cell_type": "markdown",
   "metadata": {},
   "source": [
    "Given a string, return a new string made of 3 copies of the last 2 chars of the original string. The string length will be at least 2.\n",
    "\n",
    "extra_end('Hello') → 'lololo'\n",
    "extra_end('ab') → 'ababab'\n",
    "extra_end('Hi') → 'HiHiHi'"
   ]
  },
  {
   "cell_type": "code",
   "execution_count": null,
   "metadata": {},
   "outputs": [],
   "source": [
    "def extra_end(str):\n",
    "    lastTwo = str[-2:]\n",
    "    return lastTwo * 3\n",
    "\n",
    "print(extra_end('Hello'))\n",
    "print(extra_end('ab'))\n",
    "print(extra_end('Hi'))\n"
   ]
  },
  {
   "cell_type": "markdown",
   "metadata": {},
   "source": [
    "Given a string, return the string made of its first two chars, so the String \"Hello\" yields \"He\". If the string is shorter than length 2, return whatever there is, so \"X\" yields \"X\", and the empty string \"\" yields the empty string \"\".\n",
    "\n",
    "first_two('Hello') → 'He'\n",
    "first_two('abcdefg') → 'ab'\n",
    "first_two('ab') → 'ab'"
   ]
  },
  {
   "cell_type": "code",
   "execution_count": null,
   "metadata": {},
   "outputs": [],
   "source": [
    "def first_two(str):\n",
    "    firstTwo = str[:2]\n",
    "\n",
    "    if len(str) < 2:\n",
    "        return str\n",
    "\n",
    "    return firstTwo\n",
    "\n",
    "print(first_two('Hello'))\n",
    "print(first_two('abcdefg'))\n",
    "print(first_two('ab'))\n"
   ]
  },
  {
   "cell_type": "markdown",
   "metadata": {},
   "source": [
    "\n",
    "Given a string of even length, return the first half. So the string \"WooHoo\" yields \"Woo\".\n",
    "\n",
    "first_half('WooHoo') → 'Woo'\n",
    "first_half('HelloThere') → 'Hello'\n",
    "first_half('abcdef') → 'abc'"
   ]
  },
  {
   "cell_type": "code",
   "execution_count": 161,
   "metadata": {},
   "outputs": [
    {
     "name": "stdout",
     "output_type": "stream",
     "text": [
      "Woo\n",
      "Hello\n",
      "abc\n"
     ]
    }
   ],
   "source": [
    "def first_half(str):\n",
    "    half = int(len(str)/2)\n",
    "    return str[:half]\n",
    "        \n",
    "print(first_half('WooHoo'))\n",
    "print(first_half('HelloThere'))\n",
    "print(first_half('abcdef'))\n"
   ]
  },
  {
   "cell_type": "markdown",
   "metadata": {},
   "source": [
    "Given a string, return a version without the first and last char, so \"Hello\" yields \"ell\". The string length will be at least 2.\n",
    "\n",
    "without_end('Hello') → 'ell'\n",
    "without_end('java') → 'av'\n",
    "without_end('coding') → 'odin'"
   ]
  },
  {
   "cell_type": "code",
   "execution_count": 163,
   "metadata": {},
   "outputs": [
    {
     "name": "stdout",
     "output_type": "stream",
     "text": [
      "ell\n",
      "av\n",
      "odin\n"
     ]
    }
   ],
   "source": [
    "def without_end(str):\n",
    "  if len(str) >= 2:\n",
    "    newStr = str[1:-1]\n",
    "    return newStr\n",
    "\n",
    "print(without_end('Hello'))\n",
    "print(without_end('java'))\n",
    "print(without_end('coding'))\n"
   ]
  },
  {
   "cell_type": "markdown",
   "metadata": {},
   "source": [
    "Given 2 strings, a and b, return a string of the form short+long+short, with the shorter string on the outside and the longer string on the inside. The strings will not be the same length, but they may be empty (length 0).\n",
    "\n",
    "combo_string('Hello', 'hi') → 'hiHellohi'\n",
    "combo_string('hi', 'Hello') → 'hiHellohi'\n",
    "combo_string('aaa', 'b') → 'baaab'"
   ]
  },
  {
   "cell_type": "code",
   "execution_count": 165,
   "metadata": {},
   "outputs": [
    {
     "name": "stdout",
     "output_type": "stream",
     "text": [
      "hiHellohi\n",
      "hiHellohi\n",
      "baaab\n"
     ]
    }
   ],
   "source": [
    "def combo_string(a, b):\n",
    "    if len(a) < len(b):\n",
    "        return a + b + a\n",
    "    else:\n",
    "        return b + a + b\n",
    "  \n",
    "print(combo_string('Hello', 'hi'))\n",
    "print(combo_string('hi', 'Hello'))\n",
    "print(combo_string('aaa', 'b'))\n"
   ]
  },
  {
   "cell_type": "markdown",
   "metadata": {},
   "source": [
    "Given 2 strings, return their concatenation, except omit the first char of each. The strings will be at least length 1.\n",
    "\n",
    "non_start('Hello', 'There') → 'ellohere'\n",
    "non_start('java', 'code') → 'avaode'\n",
    "non_start('shotl', 'java') → 'hotlava'"
   ]
  },
  {
   "cell_type": "code",
   "execution_count": 166,
   "metadata": {},
   "outputs": [
    {
     "name": "stdout",
     "output_type": "stream",
     "text": [
      "ellohere\n",
      "avaode\n",
      "hotlava\n"
     ]
    }
   ],
   "source": [
    "def non_start(a, b):\n",
    "    if len(a) >= 1 and len(b) >= 1:\n",
    "        return a[1:] + b[1:]\n",
    "\n",
    "print(non_start('Hello', 'There'))\n",
    "print(non_start('java', 'code'))\n",
    "print(non_start('shotl', 'java'))\n"
   ]
  },
  {
   "cell_type": "markdown",
   "metadata": {},
   "source": [
    "Given a string, return a \"rotated left 2\" version where the first 2 chars are moved to the end. The string length will be at least 2.\n",
    "\n",
    "left2('Hello') → 'lloHe'\n",
    "left2('java') → 'vaja'\n",
    "left2('Hi') → 'Hi'"
   ]
  },
  {
   "cell_type": "code",
   "execution_count": 167,
   "metadata": {},
   "outputs": [
    {
     "name": "stdout",
     "output_type": "stream",
     "text": [
      "lloHe\n",
      "vaja\n",
      "Hi\n"
     ]
    }
   ],
   "source": [
    "def left2(str):\n",
    "    if len(str) >= 2:\n",
    "        return str[2:] + str[:2]\n",
    "  \n",
    "print(left2('Hello'))\n",
    "print(left2('java'))\n",
    "print(left2('Hi'))\n"
   ]
  },
  {
   "cell_type": "markdown",
   "metadata": {},
   "source": [
    "Given an array of ints, return True if 6 appears as either the first or last element in the array. The array will be length 1 or more.\n",
    "\n",
    "first_last6([1, 2, 6]) → True\n",
    "first_last6([6, 1, 2, 3]) → True\n",
    "first_last6([13, 6, 1, 2, 3]) → False"
   ]
  },
  {
   "cell_type": "code",
   "execution_count": 169,
   "metadata": {},
   "outputs": [
    {
     "name": "stdout",
     "output_type": "stream",
     "text": [
      "True\n",
      "True\n",
      "False\n"
     ]
    }
   ],
   "source": [
    "def first_last6(nums):\n",
    "    if len(nums) >= 1:\n",
    "        if nums[0] == 6 or nums[-1] == 6:\n",
    "            return True\n",
    "        return False\n",
    "  \n",
    "print(first_last6([1, 2, 6]))\n",
    "print(first_last6([6, 1, 2, 3]))\n",
    "print(first_last6([13, 6, 1, 2, 3]))\n"
   ]
  },
  {
   "cell_type": "markdown",
   "metadata": {},
   "source": [
    "Given an array of ints, return True if the array is length 1 or more, and the first element and the last element are equal.\n",
    "\n",
    "same_first_last([1, 2, 3]) → False\n",
    "same_first_last([1, 2, 3, 1]) → True\n",
    "same_first_last([1, 2, 1]) → True"
   ]
  },
  {
   "cell_type": "code",
   "execution_count": 186,
   "metadata": {},
   "outputs": [
    {
     "name": "stdout",
     "output_type": "stream",
     "text": [
      "False\n",
      "True\n",
      "True\n"
     ]
    }
   ],
   "source": [
    "def same_first_last(nums):\n",
    "    if len(nums) >= 1:\n",
    "        if nums[0] == nums[-1]:\n",
    "            return True\n",
    "    return False\n",
    "    \n",
    "\n",
    "print(same_first_last([1, 2, 3]))\n",
    "print(same_first_last([1, 2, 3, 1]))\n",
    "print(same_first_last([1, 2, 1]))\n"
   ]
  },
  {
   "cell_type": "markdown",
   "metadata": {},
   "source": [
    "\n",
    "Return an int array length 3 containing the first 3 digits of pi, {3, 1, 4}.\n",
    "\n",
    "make_pi() → [3, 1, 4]"
   ]
  },
  {
   "cell_type": "code",
   "execution_count": 200,
   "metadata": {},
   "outputs": [
    {
     "name": "stdout",
     "output_type": "stream",
     "text": [
      "3.141592653589793\n",
      "3141592653589793\n",
      "[3, 1, 4]\n"
     ]
    }
   ],
   "source": [
    "import math\n",
    "\n",
    "def make_pi():\n",
    "    piNum = str(math.pi)\n",
    "    number = piNum.replace(\".\", \"\")\n",
    "    return [int(number[0]),int(number[1]),int(number[2])]\n",
    "  \n",
    "print(make_pi())"
   ]
  },
  {
   "cell_type": "markdown",
   "metadata": {},
   "source": [
    "Given 2 arrays of ints, a and b, return True if they have the same first element or they have the same last element. Both arrays will be length 1 or more.\n",
    "\n",
    "common_end([1, 2, 3], [7, 3]) → True\n",
    "common_end([1, 2, 3], [7, 3, 2]) → False\n",
    "common_end([1, 2, 3], [1, 3]) → True"
   ]
  },
  {
   "cell_type": "code",
   "execution_count": 201,
   "metadata": {},
   "outputs": [
    {
     "name": "stdout",
     "output_type": "stream",
     "text": [
      "True\n",
      "False\n",
      "True\n"
     ]
    }
   ],
   "source": [
    "def common_end(a, b):\n",
    "    if len(a) >= 1 and len(b) >= 1:\n",
    "        if a[0] == b[0] or a[-1] == b[-1]:\n",
    "            return True\n",
    "        return False\n",
    "  \n",
    "print(common_end([1, 2, 3], [7, 3]))\n",
    "print(common_end([1, 2, 3], [7, 3, 2]))\n",
    "print(common_end([1, 2, 3], [1, 3]))\n"
   ]
  },
  {
   "cell_type": "markdown",
   "metadata": {},
   "source": [
    "Given an array of ints length 3, return the sum of all the elements.\n",
    "\n",
    "sum3([1, 2, 3]) → 6\n",
    "sum3([5, 11, 2]) → 18\n",
    "sum3([7, 0, 0]) → 7"
   ]
  },
  {
   "cell_type": "code",
   "execution_count": null,
   "metadata": {},
   "outputs": [],
   "source": [
    "def sum3(nums):\n",
    "    sum = 0\n",
    "    for i in range(len(nums)):\n",
    "        sum += nums[i]\n",
    "    return sum\n",
    "  \n",
    "print(sum3([1, 2, 3]))\n",
    "print(sum3([5, 11, 2]))\n",
    "print(sum3([7, 0, 0]))\n"
   ]
  },
  {
   "cell_type": "markdown",
   "metadata": {},
   "source": [
    "Given an array of ints length 3, return an array with the elements \"rotated left\" so {1, 2, 3} yields {2, 3, 1}.\n",
    "\n",
    "rotate_left3([1, 2, 3]) → [2, 3, 1]\n",
    "rotate_left3([5, 11, 9]) → [11, 9, 5]\n",
    "rotate_left3([7, 0, 0]) → [0, 0, 7]"
   ]
  },
  {
   "cell_type": "code",
   "execution_count": 209,
   "metadata": {},
   "outputs": [
    {
     "name": "stdout",
     "output_type": "stream",
     "text": [
      "[2, 3, 1]\n",
      "[11, 9, 5]\n",
      "[0, 0, 7]\n"
     ]
    }
   ],
   "source": [
    "def rotate_left3(nums):\n",
    "    result = [nums[1], nums[2], nums[0]]\n",
    "    return result\n",
    "  \n",
    "print(rotate_left3([1, 2, 3]))\n",
    "print(rotate_left3([5, 11, 9]))\n",
    "print(rotate_left3([7, 0, 0]))\n"
   ]
  },
  {
   "cell_type": "markdown",
   "metadata": {},
   "source": [
    "Given an array of ints length 3, return a new array with the elements in reverse order, so {1, 2, 3} becomes {3, 2, 1}.\n",
    "\n",
    "reverse3([1, 2, 3]) → [3, 2, 1]\n",
    "reverse3([5, 11, 9]) → [9, 11, 5]\n",
    "reverse3([7, 0, 0]) → [0, 0, 7]"
   ]
  },
  {
   "cell_type": "code",
   "execution_count": 212,
   "metadata": {},
   "outputs": [
    {
     "name": "stdout",
     "output_type": "stream",
     "text": [
      "[3, 2, 1]\n",
      "[9, 11, 5]\n",
      "[0, 0, 7]\n"
     ]
    }
   ],
   "source": [
    "def reverse3(nums):\n",
    "    # convert to list because reversed will create a object\n",
    "    reverse = list(reversed(nums)) \n",
    "    return reverse\n",
    "  \n",
    "print(reverse3([1, 2, 3]))\n",
    "print(reverse3([5, 11, 9]))\n",
    "print(reverse3([7, 0, 0]))\n"
   ]
  },
  {
   "cell_type": "markdown",
   "metadata": {},
   "source": [
    "Given an array of ints length 3, figure out which is larger, the first or last element in the array, and set all the other elements to be that value. Return the changed array.\n",
    "\n",
    "max_end3([1, 2, 3]) → [3, 3, 3]\n",
    "max_end3([11, 5, 9]) → [11, 11, 11]\n",
    "max_end3([2, 11, 3]) → [3, 3, 3]"
   ]
  },
  {
   "cell_type": "code",
   "execution_count": 216,
   "metadata": {},
   "outputs": [
    {
     "name": "stdout",
     "output_type": "stream",
     "text": [
      "[3, 3, 3]\n",
      "[11, 11, 11]\n",
      "[3, 3, 3]\n"
     ]
    }
   ],
   "source": [
    "def max_end3(nums):\n",
    "    big = max(nums[0], nums[-1])\n",
    "    nums[0] = big\n",
    "    nums[1] = big\n",
    "    nums[2] = big\n",
    "    return nums\n",
    "\n",
    "print(max_end3([1, 2, 3]))\n",
    "print(max_end3([11, 5, 9]))\n",
    "print(max_end3([2, 11, 3]))"
   ]
  },
  {
   "cell_type": "code",
   "execution_count": 215,
   "metadata": {},
   "outputs": [
    {
     "name": "stdout",
     "output_type": "stream",
     "text": [
      "[3, 3, 3]\n",
      "[11, 11, 11]\n",
      "[3, 3, 3]\n"
     ]
    }
   ],
   "source": [
    "def max_end3(nums):\n",
    "    new = []\n",
    "    if nums[0] > nums[-1]:\n",
    "        new = [nums[0],nums[0],nums[0] ]\n",
    "        return new\n",
    "    else:\n",
    "        return [nums[-1],nums[-1], nums[-1]]\n",
    "  \n",
    "print(max_end3([1, 2, 3]))\n",
    "print(max_end3([11, 5, 9]))\n",
    "print(max_end3([2, 11, 3]))\n"
   ]
  },
  {
   "cell_type": "markdown",
   "metadata": {},
   "source": [
    "Given an array of ints, return the sum of the first 2 elements in the array. If the array length is less than 2, just sum up the elements that exist, returning 0 if the array is length 0.\n",
    "\n",
    "sum2([1, 2, 3]) → 3\n",
    "sum2([1, 1]) → 2\n",
    "sum2([1, 1, 1, 1]) → 2"
   ]
  },
  {
   "cell_type": "code",
   "execution_count": 217,
   "metadata": {},
   "outputs": [
    {
     "name": "stdout",
     "output_type": "stream",
     "text": [
      "3\n",
      "2\n",
      "2\n"
     ]
    }
   ],
   "source": [
    "def sum2(nums):\n",
    "    if len(nums) <= 0:\n",
    "        return 0\n",
    "    elif len(nums) == 1:\n",
    "        return nums[0]\n",
    "    else:\n",
    "        return nums[0] + nums[1]\n",
    "  \n",
    "print(sum2([1, 2, 3]))\n",
    "print(sum2([1, 1]))\n",
    "print(sum2([1, 1, 1, 1]))\n"
   ]
  },
  {
   "cell_type": "markdown",
   "metadata": {},
   "source": [
    "Given 2 int arrays, a and b, each length 3, return a new array length 2 containing their middle elements.\n",
    "\n",
    "middle_way([1, 2, 3], [4, 5, 6]) → [2, 5]\n",
    "middle_way([7, 7, 7], [3, 8, 0]) → [7, 8]\n",
    "middle_way([5, 2, 9], [1, 4, 5]) → [2, 4]"
   ]
  },
  {
   "cell_type": "code",
   "execution_count": 218,
   "metadata": {},
   "outputs": [
    {
     "name": "stdout",
     "output_type": "stream",
     "text": [
      "[2, 5]\n",
      "[7, 8]\n",
      "[2, 4]\n"
     ]
    }
   ],
   "source": [
    "def middle_way(a, b):\n",
    "    return [a[1], b[1]]\n",
    "  \n",
    "print(middle_way([1, 2, 3], [4, 5, 6]))\n",
    "print(middle_way([7, 7, 7], [3, 8, 0]))\n",
    "print(middle_way([5, 2, 9], [1, 4, 5]))\n"
   ]
  },
  {
   "cell_type": "markdown",
   "metadata": {},
   "source": [
    "Given an array of ints, return a new array length 2 containing the first and last elements from the original array. The original array will be length 1 or more.\n",
    "\n",
    "make_ends([1, 2, 3]) → [1, 3]\n",
    "make_ends([1, 2, 3, 4]) → [1, 4]\n",
    "make_ends([7, 4, 6, 2]) → [7, 2]"
   ]
  },
  {
   "cell_type": "code",
   "execution_count": 219,
   "metadata": {},
   "outputs": [
    {
     "name": "stdout",
     "output_type": "stream",
     "text": [
      "[1, 3]\n",
      "[1, 4]\n",
      "[7, 2]\n"
     ]
    }
   ],
   "source": [
    "def make_ends(nums):\n",
    "    if len(nums) >= 1:\n",
    "        return [nums[0], nums[-1]]\n",
    "  \n",
    "print(make_ends([1, 2, 3]))\n",
    "print(make_ends([1, 2, 3, 4]))\n",
    "print(make_ends([7, 4, 6, 2]))\n"
   ]
  },
  {
   "cell_type": "markdown",
   "metadata": {},
   "source": [
    "Given an int array length 2, return True if it contains a 2 or a 3.\n",
    "\n",
    "has23([2, 5]) → True\n",
    "has23([4, 3]) → True\n",
    "has23([4, 5]) → False"
   ]
  },
  {
   "cell_type": "code",
   "execution_count": 224,
   "metadata": {},
   "outputs": [
    {
     "name": "stdout",
     "output_type": "stream",
     "text": [
      "False\n",
      "False\n",
      "False\n"
     ]
    }
   ],
   "source": [
    "def has23(nums):\n",
    "    for i in range(len(nums)):\n",
    "        if i == 2 or i == 3:\n",
    "            return True\n",
    "        return False\n",
    "  \n",
    "\n",
    "print(has23([2, 5]))\n",
    "print(has23([4, 3]))\n",
    "print(has23([4, 5]))\n"
   ]
  },
  {
   "cell_type": "code",
   "execution_count": null,
   "metadata": {},
   "outputs": [],
   "source": []
  },
  {
   "cell_type": "markdown",
   "metadata": {},
   "source": []
  },
  {
   "cell_type": "code",
   "execution_count": null,
   "metadata": {},
   "outputs": [],
   "source": []
  },
  {
   "cell_type": "markdown",
   "metadata": {},
   "source": []
  },
  {
   "cell_type": "code",
   "execution_count": null,
   "metadata": {},
   "outputs": [],
   "source": []
  },
  {
   "cell_type": "markdown",
   "metadata": {},
   "source": []
  },
  {
   "cell_type": "code",
   "execution_count": null,
   "metadata": {},
   "outputs": [],
   "source": []
  },
  {
   "cell_type": "markdown",
   "metadata": {},
   "source": []
  },
  {
   "cell_type": "code",
   "execution_count": null,
   "metadata": {},
   "outputs": [],
   "source": []
  },
  {
   "cell_type": "markdown",
   "metadata": {},
   "source": []
  },
  {
   "cell_type": "code",
   "execution_count": null,
   "metadata": {},
   "outputs": [],
   "source": []
  },
  {
   "cell_type": "markdown",
   "metadata": {},
   "source": []
  }
 ],
 "metadata": {
  "kernelspec": {
   "display_name": "Python 3",
   "language": "python",
   "name": "python3"
  },
  "language_info": {
   "codemirror_mode": {
    "name": "ipython",
    "version": 3
   },
   "file_extension": ".py",
   "mimetype": "text/x-python",
   "name": "python",
   "nbconvert_exporter": "python",
   "pygments_lexer": "ipython3",
   "version": "3.8.12"
  },
  "orig_nbformat": 4
 },
 "nbformat": 4,
 "nbformat_minor": 2
}

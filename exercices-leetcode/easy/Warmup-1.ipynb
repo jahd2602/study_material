{
 "cells": [
  {
   "cell_type": "markdown",
   "metadata": {},
   "source": [
    "\n",
    "The parameter weekday is True if it is a weekday, and the parameter vacation is True if we are on vacation. We sleep in if it is not a weekday or we're on vacation. Return True if we sleep in.\n",
    "\n",
    "\n",
    "sleep_in(False, False) → True\n",
    "sleep_in(True, False) → False\n",
    "sleep_in(False, True) → True"
   ]
  },
  {
   "cell_type": "code",
   "execution_count": 367,
   "metadata": {},
   "outputs": [
    {
     "data": {
      "text/plain": [
       "True"
      ]
     },
     "execution_count": 367,
     "metadata": {},
     "output_type": "execute_result"
    }
   ],
   "source": [
    "def sleep_in(weekday, vacation):\n",
    "  if not weekday or vacation:\n",
    "    return True\n",
    "  else:\n",
    "    return False\n",
    "\n",
    "\n",
    "sleep_in(False, False)\n",
    "sleep_in(True, False)\n",
    "sleep_in(False, True)"
   ]
  },
  {
   "cell_type": "markdown",
   "metadata": {},
   "source": [
    "Warmup-1 > monkey_trouble\n",
    "prev  |  next  |  chance\n",
    "We have two monkeys, a and b, and the parameters a_smile and b_smile indicate if each is smiling. We are in trouble if they are both smiling or if neither of them is smiling. Return True if we are in trouble.\n",
    "\n",
    "\n",
    "monkey_trouble(True, True) → True\n",
    "monkey_trouble(False, False) → True\n",
    "monkey_trouble(True, False) → False"
   ]
  },
  {
   "cell_type": "code",
   "execution_count": 368,
   "metadata": {},
   "outputs": [],
   "source": [
    "def monkey_trouble(a_smile, b_smile):\n",
    "  if a_smile and b_smile:\n",
    "    return True\n",
    "  elif not a_smile and not b_smile:\n",
    "    return True\n",
    "  else:\n",
    "    return False\n",
    "  "
   ]
  },
  {
   "cell_type": "markdown",
   "metadata": {},
   "source": [
    "\n",
    "Given two int values, return their sum. Unless the two values are the same, then return double their sum.\n",
    "\n",
    "\n",
    "sum_double(1, 2) → 3\n",
    "sum_double(3, 2) → 5\n",
    "sum_double(2, 2) → 8"
   ]
  },
  {
   "cell_type": "code",
   "execution_count": 369,
   "metadata": {},
   "outputs": [],
   "source": [
    "def sum_double(a, b):\n",
    "  if a != b:\n",
    "    return a + b\n",
    "  else:\n",
    "    return (a + b)* 2 \n",
    "  "
   ]
  },
  {
   "cell_type": "markdown",
   "metadata": {},
   "source": [
    "\n",
    "Given an int n, return the absolute difference between n and 21, except return double the absolute difference if n is over 21.\n",
    "\n",
    "\n",
    "diff21(19) → 2\n",
    "diff21(10) → 11\n",
    "diff21(21) → 0"
   ]
  },
  {
   "cell_type": "code",
   "execution_count": 370,
   "metadata": {},
   "outputs": [],
   "source": [
    "def diff21(n):\n",
    "  if n >= 21:\n",
    "    return (n - 21)*2\n",
    "  else:\n",
    "    return 21 - n"
   ]
  },
  {
   "cell_type": "markdown",
   "metadata": {},
   "source": [
    "We have a loud talking parrot. The \"hour\" parameter is the current hour time in the range 0..23. We are in trouble if the parrot is talking and the hour is before 7 or after 20. Return True if we are in trouble.\n",
    "\n",
    "\n",
    "parrot_trouble(True, 6) → True\n",
    "parrot_trouble(True, 7) → False\n",
    "parrot_trouble(False, 6) → False"
   ]
  },
  {
   "cell_type": "code",
   "execution_count": 371,
   "metadata": {},
   "outputs": [],
   "source": [
    "def parrot_trouble(talking, hour):\n",
    "  if talking:\n",
    "    if hour < 7 or hour > 20:\n",
    "      return True\n",
    "    else:\n",
    "      return False\n",
    "      \n",
    "  elif not talking:\n",
    "    if hour <= 7 or hour >= 20:\n",
    "      return False\n",
    "    else:\n",
    "      return True"
   ]
  },
  {
   "cell_type": "markdown",
   "metadata": {},
   "source": [
    "Given 2 ints, a and b, return True if one if them is 10 or if their sum is 10.\n",
    "\n",
    "makes10(9, 10) → True\n",
    "makes10(9, 9) → False\n",
    "makes10(1, 9) → True"
   ]
  },
  {
   "cell_type": "code",
   "execution_count": 372,
   "metadata": {},
   "outputs": [],
   "source": [
    "def makes10(a, b):\n",
    "  if a + b == 10 or a == 10 or b == 10:\n",
    "    return True\n",
    "  else:\n",
    "    return False\n"
   ]
  },
  {
   "cell_type": "markdown",
   "metadata": {},
   "source": [
    "Given an int n, return True if it is within 10 of 100 or 200. Note: abs(num) computes the absolute value of a number.\n",
    "\n",
    "near_hundred(93) → True\n",
    "near_hundred(90) → True\n",
    "near_hundred(89) → False"
   ]
  },
  {
   "cell_type": "code",
   "execution_count": 373,
   "metadata": {},
   "outputs": [],
   "source": [
    "def near_hundred(n):\n",
    "   return ((abs(100 -n) <= 10) or (abs(200 - n) <= 10))\n",
    "    \n"
   ]
  },
  {
   "cell_type": "markdown",
   "metadata": {},
   "source": [
    "Given 2 int values, return True if one is negative and one is positive. Except if the parameter \"negative\" is True, then return True only if both are negative.\n",
    "\n",
    "\n",
    "pos_neg(1, -1, False) → True\n",
    "pos_neg(-1, 1, False) → True\n",
    "pos_neg(-4, -5, True) → True"
   ]
  },
  {
   "cell_type": "code",
   "execution_count": 374,
   "metadata": {},
   "outputs": [],
   "source": [
    "def pos_neg(a, b, negative):\n",
    "  if negative:\n",
    "    return ( a < 0 and b < 0)\n",
    "      \n",
    "  else:\n",
    "    return ((a < 0 and b > 0) or (a > 0 and b < 0))"
   ]
  },
  {
   "cell_type": "markdown",
   "metadata": {},
   "source": [
    "Given a string, return a new string where \"not \" has been added to the front. However, if the string already begins with \"not\", return the string unchanged.\n",
    "\n",
    "\n",
    "not_string('candy') → 'not candy'\n",
    "not_string('x') → 'not x'\n",
    "not_string('not bad') → 'not bad'"
   ]
  },
  {
   "cell_type": "code",
   "execution_count": 375,
   "metadata": {},
   "outputs": [],
   "source": [
    "def not_string(str):\n",
    "    if str[:3] != \"not\":\n",
    "        return \"not \" + str\n",
    "    else:\n",
    "        return str"
   ]
  },
  {
   "cell_type": "markdown",
   "metadata": {},
   "source": [
    "Given a non-empty string and an int n, return a new string where the char at index n has been removed. The value of n will be a valid index of a char in the original string (i.e. n will be in the range 0..len(str)-1 inclusive).\n",
    "\n",
    "\n",
    "missing_char('kitten', 1) → 'ktten'\n",
    "missing_char('kitten', 0) → 'itten'\n",
    "missing_char('kitten', 4) → 'kittn'"
   ]
  },
  {
   "cell_type": "code",
   "execution_count": 376,
   "metadata": {},
   "outputs": [
    {
     "data": {
      "text/plain": [
       "'ktten'"
      ]
     },
     "execution_count": 376,
     "metadata": {},
     "output_type": "execute_result"
    }
   ],
   "source": [
    "def missing_char(str, n):\n",
    "  front = str[:n]   # up to but not including n\n",
    "  back = str[n+1:]  # n+1 through end of string\n",
    "  return front + back\n",
    "    \n",
    "missing_char('kitten', 1)"
   ]
  },
  {
   "cell_type": "markdown",
   "metadata": {},
   "source": [
    "Given a string, return a new string where the first and last chars have been exchanged.\n",
    "\n",
    "front_back('code') → 'eodc'\n",
    "front_back('a') → 'a'\n",
    "front_back('ab') → 'ba'"
   ]
  },
  {
   "cell_type": "code",
   "execution_count": 377,
   "metadata": {},
   "outputs": [
    {
     "name": "stdout",
     "output_type": "stream",
     "text": [
      "eodc\n",
      "a\n",
      "ba\n",
      "cba\n",
      "ehocolatc\n",
      "java\n",
      "oellh\n",
      "\n"
     ]
    }
   ],
   "source": [
    "def front_back(str):\n",
    "    if len(str) >= 2:\n",
    "        first = str[0]\n",
    "        last = str[-1]\n",
    "        temp = ''\n",
    "\n",
    "        temp = last\n",
    "        last = first\n",
    "        first = temp\n",
    "        middle = str[1:-1]\n",
    "        string = first + middle + last\n",
    "        return string\n",
    "    elif len(str) == 0:\n",
    "        return ''\n",
    "    else:\n",
    "        return str\n",
    "\n",
    "print(front_back('code'))\n",
    "print(front_back('a'))\n",
    "print(front_back('ab'))\n",
    "print(front_back('abc'))\n",
    "print(front_back('chocolate'))\n",
    "print(front_back('aavj'))\n",
    "print(front_back('hello'))\n",
    "print(front_back(''))"
   ]
  },
  {
   "cell_type": "markdown",
   "metadata": {},
   "source": [
    "Given a string, we'll say that the front is the first 3 chars of the string. If the string length is less than 3, the front is whatever is there. Return a new string which is 3 copies of the front.\n",
    "\n",
    "front3('Java') → 'JavJavJav'\n",
    "front3('Chocolate') → 'ChoChoCho'\n",
    "front3('abc') → 'abcabcabc'"
   ]
  },
  {
   "cell_type": "code",
   "execution_count": 378,
   "metadata": {},
   "outputs": [
    {
     "name": "stdout",
     "output_type": "stream",
     "text": [
      "JavJavJav\n",
      "ChoChoCho\n",
      "abcabcabc\n",
      "ababab\n",
      "\n"
     ]
    }
   ],
   "source": [
    "def front3(str):\n",
    "    return str[:3] * 3\n",
    "\n",
    "print(front3('Java'))\n",
    "print(front3('Chocolate'))\n",
    "print(front3('abc'))\n",
    "print(front3('ab'))\n",
    "print(front3(''))"
   ]
  },
  {
   "cell_type": "markdown",
   "metadata": {},
   "source": [
    "Given a string and a non-negative int n, return a larger string that is n copies of the original string.\n",
    "\n",
    "string_times('Hi', 2) → 'HiHi'\n",
    "string_times('Hi', 3) → 'HiHiHi'\n",
    "string_times('Hi', 1) → 'Hi'"
   ]
  },
  {
   "cell_type": "code",
   "execution_count": 379,
   "metadata": {},
   "outputs": [
    {
     "name": "stdout",
     "output_type": "stream",
     "text": [
      "HiHi\n",
      "HiHiHi\n",
      "Hi\n",
      "\n"
     ]
    }
   ],
   "source": [
    "def string_times(str, n):\n",
    "    return str * n\n",
    "\n",
    "print(string_times('Hi', 2))\n",
    "print(string_times('Hi', 3))\n",
    "print(string_times('Hi', 1))\n",
    "print(string_times('Hi', 0))\n"
   ]
  },
  {
   "cell_type": "markdown",
   "metadata": {},
   "source": [
    "Given a string and a non-negative int n, we'll say that the front of the string is the first 3 chars, or whatever is there if the string is less than length 3. Return n copies of the front;\n",
    "\n",
    "front_times('Chocolate', 2) → 'ChoCho'\n",
    "front_times('Chocolate', 3) → 'ChoChoCho'\n",
    "front_times('Abc', 3) → 'AbcAbcAbc'"
   ]
  },
  {
   "cell_type": "code",
   "execution_count": 380,
   "metadata": {},
   "outputs": [
    {
     "name": "stdout",
     "output_type": "stream",
     "text": [
      "ChoCho\n",
      "ChoChoCho\n",
      "AbcAbcAbc\n",
      "\n"
     ]
    }
   ],
   "source": [
    "def front_times(str, n):\n",
    "    return str[:3] * n\n",
    "\n",
    "  \n",
    "\n",
    "print(front_times('Chocolate', 2))\n",
    "print(front_times('Chocolate', 3))\n",
    "print(front_times('Abc', 3))\n",
    "print(front_times('Hi', 0))"
   ]
  },
  {
   "cell_type": "markdown",
   "metadata": {},
   "source": [
    "Given a string, return a new string made of every other char starting with the first, so \"Hello\" yields \"Hlo\".\n",
    "\n",
    "string_bits('Hello') → 'Hlo'\n",
    "string_bits('Hi') → 'H'\n",
    "string_bits('Heeololeo') → 'Hello'"
   ]
  },
  {
   "cell_type": "code",
   "execution_count": 381,
   "metadata": {},
   "outputs": [
    {
     "name": "stdout",
     "output_type": "stream",
     "text": [
      "Hlo\n",
      "H\n",
      "Hello\n",
      "\n"
     ]
    }
   ],
   "source": [
    "def string_bits(str):\n",
    "    string = \"\"\n",
    "\n",
    "    for i in range(len(str)):\n",
    "        if i % 2 == 0:\n",
    "            string = string + str[i]\n",
    "    return string\n",
    "\n",
    "\n",
    "print(string_bits('Hello'))\n",
    "print(string_bits('Hi'))\n",
    "print(string_bits('Heeololeo'))\n",
    "print(string_bits(''))"
   ]
  },
  {
   "cell_type": "markdown",
   "metadata": {},
   "source": [
    "Given a non-empty string like \"Code\" return a string like \"CCoCodCode\".\n",
    "\n",
    "string_splosion('Code') → 'CCoCodCode'\n",
    "string_splosion('abc') → 'aababc'\n",
    "string_splosion('ab') → 'aab'"
   ]
  },
  {
   "cell_type": "code",
   "execution_count": 382,
   "metadata": {},
   "outputs": [
    {
     "data": {
      "text/plain": [
       "'aab'"
      ]
     },
     "execution_count": 382,
     "metadata": {},
     "output_type": "execute_result"
    }
   ],
   "source": [
    "def string_splosion(str):\n",
    "    new = ''\n",
    "    for l in range(len(str)):\n",
    "        new += str[:l+1]\n",
    "    \n",
    "    return new\n",
    "\n",
    "string_splosion(\"Code\")\n",
    "string_splosion(\"abc\")\n",
    "string_splosion(\"ab\")\n"
   ]
  },
  {
   "cell_type": "markdown",
   "metadata": {},
   "source": [
    "Given a string, return the count of the number of times that a substring length 2 appears in the string and also as the last 2 chars of the string, so \"hixxxhi\" yields 1 (we won't count the end substring).\n",
    "\n",
    "\n",
    "last2('hixxhi') → 1\n",
    "last2('xaxxaxaxx') → 1\n",
    "last2('axxxaaxx') → 2"
   ]
  },
  {
   "cell_type": "code",
   "execution_count": 383,
   "metadata": {},
   "outputs": [
    {
     "name": "stdout",
     "output_type": "stream",
     "text": [
      "2\n",
      "0\n",
      "0\n"
     ]
    }
   ],
   "source": [
    "def last2(str):\n",
    "\n",
    "    if len(str) <= 1:\n",
    "        return 0\n",
    "    \n",
    "    lastTwo = str[-2:]\n",
    "    count = 0\n",
    "    for i in range(len(str[:-1])):\n",
    "        new = str[i] + str[i+1]\n",
    "        if new == lastTwo:\n",
    "            count += 1\n",
    "    \n",
    "    return count -1\n",
    "\n",
    "last2('hixxhi')\n",
    "last2('xaxxaxaxx') \n",
    "print(last2('axxxaaxx'))\n",
    "print(last2('h'))\n",
    "print(last2(''))"
   ]
  },
  {
   "cell_type": "code",
   "execution_count": 384,
   "metadata": {},
   "outputs": [
    {
     "data": {
      "text/plain": [
       "1"
      ]
     },
     "execution_count": 384,
     "metadata": {},
     "output_type": "execute_result"
    }
   ],
   "source": [
    "def last2(str):\n",
    "  # Screen out too-short string case.\n",
    "  if len(str) < 2:\n",
    "    return 0\n",
    "  \n",
    "  # last 2 chars, can be written as str[-2:]\n",
    "  last2 = str[len(str)-2:]\n",
    "  count = 0\n",
    "  \n",
    "  # Check each substring length 2 starting at i\n",
    "  for i in range(len(str)-2):\n",
    "    sub = str[i:i+2]\n",
    "    if sub == last2:\n",
    "      count = count + 1\n",
    "\n",
    "  return count\n",
    "\n",
    "last2('hixxhi') "
   ]
  },
  {
   "cell_type": "markdown",
   "metadata": {},
   "source": [
    "Given an array of ints, return the number of 9's in the array.\n",
    "\n",
    "array_count9([1, 2, 9]) → 1\n",
    "array_count9([1, 9, 9]) → 2\n",
    "array_count9([1, 9, 9, 3, 9]) → 3"
   ]
  },
  {
   "cell_type": "code",
   "execution_count": 385,
   "metadata": {},
   "outputs": [
    {
     "data": {
      "text/plain": [
       "3"
      ]
     },
     "execution_count": 385,
     "metadata": {},
     "output_type": "execute_result"
    }
   ],
   "source": [
    "def array_count9(nums):\n",
    "    count = 0\n",
    "\n",
    "    for i in range(len(nums)):\n",
    "        if nums[i] == 9:\n",
    "            count += 1\n",
    "\n",
    "    return count\n",
    "\n",
    "array_count9([1, 2, 9])\n",
    "array_count9([1, 9, 9])\n",
    "array_count9([1, 9, 9, 3, 9])"
   ]
  },
  {
   "cell_type": "markdown",
   "metadata": {},
   "source": [
    "Given an array of ints, return True if one of the first 4 elements in the array is a 9. The array length may be less than 4.\n",
    "\n",
    "array_front9([1, 2, 9, 3, 4]) → True\n",
    "array_front9([1, 2, 3, 4, 9]) → False\n",
    "array_front9([1, 2, 3, 4, 5]) → False"
   ]
  },
  {
   "cell_type": "code",
   "execution_count": 386,
   "metadata": {},
   "outputs": [
    {
     "name": "stdout",
     "output_type": "stream",
     "text": [
      "0 1\n",
      "1 2\n",
      "2 9\n",
      "True\n",
      "-----\n",
      "0 1\n",
      "1 2\n",
      "2 3\n",
      "3 4\n",
      "False\n",
      "-----\n",
      "0 1\n",
      "1 2\n",
      "2 3\n",
      "3 4\n",
      "False\n",
      "-----\n",
      "0 1\n",
      "1 2\n",
      "2 9\n",
      "True\n",
      "-----\n",
      "0 1\n",
      "False\n"
     ]
    }
   ],
   "source": [
    "def array_front9(nums):\n",
    "    final = 4\n",
    "\n",
    "    if len(nums) <= final:\n",
    "        final = len(nums)\n",
    "        \n",
    "    for i in range(final):\n",
    "        print(i, nums[i])\n",
    "        if nums[i] == 9:\n",
    "            return True\n",
    "            \n",
    "    return False\n",
    "\n",
    "\n",
    "    \n",
    "print(array_front9([1, 2, 9, 3, 4]))\n",
    "print(\"-----\")\n",
    "print(array_front9([1, 2, 3, 4, 9]))\n",
    "print(\"-----\")\n",
    "print(array_front9([1, 2, 3, 4, 5]))\n",
    "print(\"-----\")\n",
    "print(array_front9([1, 2, 9]))\n",
    "print(\"-----\")\n",
    "print(array_front9([1]))"
   ]
  },
  {
   "cell_type": "markdown",
   "metadata": {},
   "source": [
    "Given an array of ints, return True if the sequence of numbers 1, 2, 3 appears in the array somewhere.\n",
    "\n",
    "array123([1, 1, 2, 3, 1]) → True\n",
    "array123([1, 1, 2, 4, 1]) → False\n",
    "array123([1, 1, 2, 1, 2, 3]) → True"
   ]
  },
  {
   "cell_type": "code",
   "execution_count": 387,
   "metadata": {},
   "outputs": [
    {
     "name": "stdout",
     "output_type": "stream",
     "text": [
      "----- exemplo 1\n",
      "[1, 1, 2]\n",
      "[1, 2, 3]\n",
      "True\n",
      "----- exemplo 2\n",
      "[1, 1, 2]\n",
      "[1, 2, 4]\n",
      "[2, 4, 1]\n",
      "False\n",
      "----- exemplo 3\n",
      "[1, 1, 2]\n",
      "[1, 2, 1]\n",
      "[2, 1, 2]\n",
      "[1, 2, 3]\n",
      "True\n"
     ]
    }
   ],
   "source": [
    "def array123(nums):\n",
    "    sequence = [1,2,3]\n",
    "\n",
    "    for i in range(len(nums)-2):\n",
    "        compare = [nums[i], nums[i+1], nums[i+2]]\n",
    "        print(compare)\n",
    "        if sequence == compare:\n",
    "            return True\n",
    "\n",
    "    return False\n",
    "\n",
    "\n",
    "print(\"----- exemplo 1\")\n",
    "print(array123([1, 1, 2, 3, 1]))\n",
    "print(\"----- exemplo 2\")\n",
    "print(array123([1, 1, 2, 4, 1]))\n",
    "print(\"----- exemplo 3\")\n",
    "print(array123([1, 1, 2, 1, 2, 3]))"
   ]
  },
  {
   "cell_type": "markdown",
   "metadata": {},
   "source": [
    "Given 2 strings, a and b, return the number of the positions where they contain the same length 2 substring. So \"xxcaazz\" and \"xxbaaz\" yields 3, since the \"xx\", \"aa\", and \"az\" substrings appear in the same place in both strings.\n",
    "\n",
    "string_match('xxcaazz', 'xxbaaz') → 3\n",
    "string_match('abc', 'abc') → 2\n",
    "string_match('abc', 'axc') → 0"
   ]
  },
  {
   "cell_type": "code",
   "execution_count": 388,
   "metadata": {},
   "outputs": [
    {
     "name": "stdout",
     "output_type": "stream",
     "text": [
      "exemplo 1 -----\n",
      "subA xx subB xx\n",
      "subA xc subB xb\n",
      "subA ca subB ba\n",
      "subA aa subB aa\n",
      "subA az subB az\n",
      "3\n",
      "exemplo 2 -----\n",
      "subA ab subB ab\n",
      "subA bc subB bc\n",
      "2\n",
      "exemplo 3 -----\n",
      "subA ab subB ax\n",
      "subA bc subB xc\n",
      "0\n"
     ]
    }
   ],
   "source": [
    "def string_match(a, b):\n",
    "    count = 0\n",
    "    shorter = min(len(a), len(b))\n",
    "\n",
    "    for i in range(shorter-1):\n",
    "        subA = a[i:i+2]\n",
    "        subB = b[i:i+2]\n",
    "        print(\"subA\", subA, \"subB\", subB)\n",
    "\n",
    "        if subA == subB:\n",
    "            count += 1\n",
    "\n",
    "    return count\n",
    "\n",
    "print('exemplo 1 -----')\n",
    "print(string_match('xxcaazz', 'xxbaaz'))\n",
    "print('exemplo 2 -----')\n",
    "print(string_match('abc', 'abc'))\n",
    "print('exemplo 3 -----')\n",
    "print(string_match('abc', 'axc') )\n"
   ]
  },
  {
   "cell_type": "markdown",
   "metadata": {},
   "source": [
    "Given a string name, e.g. \"Bob\", return a greeting of the form \"Hello Bob!\".\n",
    "\n",
    "hello_name('Bob') → 'Hello Bob!'\n",
    "hello_name('Alice') → 'Hello Alice!'\n",
    "hello_name('X') → 'Hello X!'"
   ]
  },
  {
   "cell_type": "code",
   "execution_count": 389,
   "metadata": {},
   "outputs": [
    {
     "name": "stdout",
     "output_type": "stream",
     "text": [
      "Hello Bob!\n",
      "Hello Alice!\n",
      "Hello X!\n"
     ]
    }
   ],
   "source": [
    "def hello_name(name):\n",
    "    greeting = \"Hello \" + name + \"!\"\n",
    "    return greeting \n",
    "\n",
    "\n",
    "print(hello_name('Bob'))\n",
    "print(hello_name('Alice'))\n",
    "print(hello_name('X'))\n"
   ]
  },
  {
   "cell_type": "markdown",
   "metadata": {},
   "source": [
    "Given two strings, a and b, return the result of putting them together in the order abba, e.g. \"Hi\" and \"Bye\" returns \"HiByeByeHi\".\n",
    "\n",
    "make_abba('Hi', 'Bye') → 'HiByeByeHi'\n",
    "make_abba('Yo', 'Alice') → 'YoAliceAliceYo'\n",
    "make_abba('What', 'Up') → 'WhatUpUpWhat'"
   ]
  },
  {
   "cell_type": "code",
   "execution_count": 390,
   "metadata": {},
   "outputs": [
    {
     "name": "stdout",
     "output_type": "stream",
     "text": [
      "HiByeByeHi\n",
      "YoAliceAliceYo\n",
      "WhatUpUpWhat\n"
     ]
    }
   ],
   "source": [
    "def make_abba(a, b):\n",
    "    together = a + b + b + a\n",
    "    return together\n",
    "  \n",
    "print(make_abba('Hi', 'Bye'))\n",
    "print(make_abba('Yo', 'Alice'))\n",
    "print(make_abba('What', 'Up'))\n"
   ]
  },
  {
   "cell_type": "markdown",
   "metadata": {},
   "source": [
    "The web is built with HTML strings like \"<i>Yay</i>\" which draws Yay as italic text. In this example, the \"i\" tag makes <i> and </i> which surround the word \"Yay\". Given tag and word strings, create the HTML string with tags around the word, e.g. \"<i>Yay</i>\".\n",
    "\n",
    "make_tags('i', 'Yay') → '<i>Yay</i>'\n",
    "make_tags('i', 'Hello') → '<i>Hello</i>'\n",
    "make_tags('cite', 'Yay') → '<cite>Yay</cite>'"
   ]
  },
  {
   "cell_type": "code",
   "execution_count": 391,
   "metadata": {},
   "outputs": [
    {
     "name": "stdout",
     "output_type": "stream",
     "text": [
      "<i>Yay</i>\n",
      "<i>Hello</i>\n",
      "<cite>Yay</cite>\n"
     ]
    }
   ],
   "source": [
    "def make_tags(tag, word):\n",
    "    openTag = \"<\" + tag + \">\"\n",
    "    closeTag = \"</\" + tag + \">\"\n",
    "    return openTag + word + closeTag\n",
    "  \n",
    "\n",
    "print(make_tags('i', 'Yay'))\n",
    "print(make_tags('i', 'Hello'))\n",
    "print(make_tags('cite', 'Yay'))\n"
   ]
  },
  {
   "cell_type": "markdown",
   "metadata": {},
   "source": [
    "Given an \"out\" string length 4, such as \"<<>>\", and a word, return a new string where the word is in the middle of the out string, e.g. \"<<word>>\".\n",
    "\n",
    "make_out_word('<<>>', 'Yay') → '<<Yay>>'\n",
    "make_out_word('<<>>', 'WooHoo') → '<<WooHoo>>'\n",
    "make_out_word('[[]]', 'word') → '[[word]]"
   ]
  },
  {
   "cell_type": "code",
   "execution_count": 392,
   "metadata": {},
   "outputs": [
    {
     "name": "stdout",
     "output_type": "stream",
     "text": [
      "<<Yay>>\n",
      "<<WooHoo>>\n",
      "[[word]]\n"
     ]
    }
   ],
   "source": [
    "def make_out_word(out, word):\n",
    "    openTag = out[:2] \n",
    "    closeTag = out[2:]\n",
    "\n",
    "    return openTag + word + closeTag\n",
    "  \n",
    "print(make_out_word('<<>>', 'Yay'))\n",
    "print(make_out_word('<<>>', 'WooHoo'))\n",
    "print(make_out_word('[[]]', 'word'))\n"
   ]
  },
  {
   "cell_type": "markdown",
   "metadata": {},
   "source": [
    "Given a string, return a new string made of 3 copies of the last 2 chars of the original string. The string length will be at least 2.\n",
    "\n",
    "extra_end('Hello') → 'lololo'\n",
    "extra_end('ab') → 'ababab'\n",
    "extra_end('Hi') → 'HiHiHi'"
   ]
  },
  {
   "cell_type": "code",
   "execution_count": 393,
   "metadata": {},
   "outputs": [
    {
     "name": "stdout",
     "output_type": "stream",
     "text": [
      "lololo\n",
      "ababab\n",
      "HiHiHi\n"
     ]
    }
   ],
   "source": [
    "def extra_end(str):\n",
    "    lastTwo = str[-2:]\n",
    "    return lastTwo * 3\n",
    "\n",
    "print(extra_end('Hello'))\n",
    "print(extra_end('ab'))\n",
    "print(extra_end('Hi'))\n"
   ]
  },
  {
   "cell_type": "markdown",
   "metadata": {},
   "source": [
    "Given a string, return the string made of its first two chars, so the String \"Hello\" yields \"He\". If the string is shorter than length 2, return whatever there is, so \"X\" yields \"X\", and the empty string \"\" yields the empty string \"\".\n",
    "\n",
    "first_two('Hello') → 'He'\n",
    "first_two('abcdefg') → 'ab'\n",
    "first_two('ab') → 'ab'"
   ]
  },
  {
   "cell_type": "code",
   "execution_count": 394,
   "metadata": {},
   "outputs": [
    {
     "name": "stdout",
     "output_type": "stream",
     "text": [
      "He\n",
      "ab\n",
      "ab\n"
     ]
    }
   ],
   "source": [
    "def first_two(str):\n",
    "    firstTwo = str[:2]\n",
    "\n",
    "    if len(str) < 2:\n",
    "        return str\n",
    "\n",
    "    return firstTwo\n",
    "\n",
    "print(first_two('Hello'))\n",
    "print(first_two('abcdefg'))\n",
    "print(first_two('ab'))\n"
   ]
  },
  {
   "cell_type": "markdown",
   "metadata": {},
   "source": [
    "\n",
    "Given a string of even length, return the first half. So the string \"WooHoo\" yields \"Woo\".\n",
    "\n",
    "first_half('WooHoo') → 'Woo'\n",
    "first_half('HelloThere') → 'Hello'\n",
    "first_half('abcdef') → 'abc'"
   ]
  },
  {
   "cell_type": "code",
   "execution_count": 395,
   "metadata": {},
   "outputs": [
    {
     "name": "stdout",
     "output_type": "stream",
     "text": [
      "Woo\n",
      "Hello\n",
      "abc\n"
     ]
    }
   ],
   "source": [
    "def first_half(str):\n",
    "    half = int(len(str)/2)\n",
    "    return str[:half]\n",
    "        \n",
    "print(first_half('WooHoo'))\n",
    "print(first_half('HelloThere'))\n",
    "print(first_half('abcdef'))\n"
   ]
  },
  {
   "cell_type": "markdown",
   "metadata": {},
   "source": [
    "Given a string, return a version without the first and last char, so \"Hello\" yields \"ell\". The string length will be at least 2.\n",
    "\n",
    "without_end('Hello') → 'ell'\n",
    "without_end('java') → 'av'\n",
    "without_end('coding') → 'odin'"
   ]
  },
  {
   "cell_type": "code",
   "execution_count": 396,
   "metadata": {},
   "outputs": [
    {
     "name": "stdout",
     "output_type": "stream",
     "text": [
      "ell\n",
      "av\n",
      "odin\n"
     ]
    }
   ],
   "source": [
    "def without_end(str):\n",
    "  if len(str) >= 2:\n",
    "    newStr = str[1:-1]\n",
    "    return newStr\n",
    "\n",
    "print(without_end('Hello'))\n",
    "print(without_end('java'))\n",
    "print(without_end('coding'))\n"
   ]
  },
  {
   "cell_type": "markdown",
   "metadata": {},
   "source": [
    "Given 2 strings, a and b, return a string of the form short+long+short, with the shorter string on the outside and the longer string on the inside. The strings will not be the same length, but they may be empty (length 0).\n",
    "\n",
    "combo_string('Hello', 'hi') → 'hiHellohi'\n",
    "combo_string('hi', 'Hello') → 'hiHellohi'\n",
    "combo_string('aaa', 'b') → 'baaab'"
   ]
  },
  {
   "cell_type": "code",
   "execution_count": 397,
   "metadata": {},
   "outputs": [
    {
     "name": "stdout",
     "output_type": "stream",
     "text": [
      "hiHellohi\n",
      "hiHellohi\n",
      "baaab\n"
     ]
    }
   ],
   "source": [
    "def combo_string(a, b):\n",
    "    if len(a) < len(b):\n",
    "        return a + b + a\n",
    "    else:\n",
    "        return b + a + b\n",
    "  \n",
    "print(combo_string('Hello', 'hi'))\n",
    "print(combo_string('hi', 'Hello'))\n",
    "print(combo_string('aaa', 'b'))\n"
   ]
  },
  {
   "cell_type": "markdown",
   "metadata": {},
   "source": [
    "Given 2 strings, return their concatenation, except omit the first char of each. The strings will be at least length 1.\n",
    "\n",
    "non_start('Hello', 'There') → 'ellohere'\n",
    "non_start('java', 'code') → 'avaode'\n",
    "non_start('shotl', 'java') → 'hotlava'"
   ]
  },
  {
   "cell_type": "code",
   "execution_count": 398,
   "metadata": {},
   "outputs": [
    {
     "name": "stdout",
     "output_type": "stream",
     "text": [
      "ellohere\n",
      "avaode\n",
      "hotlava\n"
     ]
    }
   ],
   "source": [
    "def non_start(a, b):\n",
    "    if len(a) >= 1 and len(b) >= 1:\n",
    "        return a[1:] + b[1:]\n",
    "\n",
    "print(non_start('Hello', 'There'))\n",
    "print(non_start('java', 'code'))\n",
    "print(non_start('shotl', 'java'))\n"
   ]
  },
  {
   "cell_type": "markdown",
   "metadata": {},
   "source": [
    "Given a string, return a \"rotated left 2\" version where the first 2 chars are moved to the end. The string length will be at least 2.\n",
    "\n",
    "left2('Hello') → 'lloHe'\n",
    "left2('java') → 'vaja'\n",
    "left2('Hi') → 'Hi'"
   ]
  },
  {
   "cell_type": "code",
   "execution_count": 399,
   "metadata": {},
   "outputs": [
    {
     "name": "stdout",
     "output_type": "stream",
     "text": [
      "lloHe\n",
      "vaja\n",
      "Hi\n"
     ]
    }
   ],
   "source": [
    "def left2(str):\n",
    "    if len(str) >= 2:\n",
    "        return str[2:] + str[:2]\n",
    "  \n",
    "print(left2('Hello'))\n",
    "print(left2('java'))\n",
    "print(left2('Hi'))\n"
   ]
  },
  {
   "cell_type": "markdown",
   "metadata": {},
   "source": [
    "Given an array of ints, return True if 6 appears as either the first or last element in the array. The array will be length 1 or more.\n",
    "\n",
    "first_last6([1, 2, 6]) → True\n",
    "first_last6([6, 1, 2, 3]) → True\n",
    "first_last6([13, 6, 1, 2, 3]) → False"
   ]
  },
  {
   "cell_type": "code",
   "execution_count": 400,
   "metadata": {},
   "outputs": [
    {
     "name": "stdout",
     "output_type": "stream",
     "text": [
      "True\n",
      "True\n",
      "False\n"
     ]
    }
   ],
   "source": [
    "def first_last6(nums):\n",
    "    if len(nums) >= 1:\n",
    "        if nums[0] == 6 or nums[-1] == 6:\n",
    "            return True\n",
    "        return False\n",
    "  \n",
    "print(first_last6([1, 2, 6]))\n",
    "print(first_last6([6, 1, 2, 3]))\n",
    "print(first_last6([13, 6, 1, 2, 3]))\n"
   ]
  },
  {
   "cell_type": "markdown",
   "metadata": {},
   "source": [
    "Given an array of ints, return True if the array is length 1 or more, and the first element and the last element are equal.\n",
    "\n",
    "same_first_last([1, 2, 3]) → False\n",
    "same_first_last([1, 2, 3, 1]) → True\n",
    "same_first_last([1, 2, 1]) → True"
   ]
  },
  {
   "cell_type": "code",
   "execution_count": 401,
   "metadata": {},
   "outputs": [
    {
     "name": "stdout",
     "output_type": "stream",
     "text": [
      "False\n",
      "True\n",
      "True\n"
     ]
    }
   ],
   "source": [
    "def same_first_last(nums):\n",
    "    if len(nums) >= 1:\n",
    "        if nums[0] == nums[-1]:\n",
    "            return True\n",
    "    return False\n",
    "    \n",
    "\n",
    "print(same_first_last([1, 2, 3]))\n",
    "print(same_first_last([1, 2, 3, 1]))\n",
    "print(same_first_last([1, 2, 1]))\n"
   ]
  },
  {
   "cell_type": "markdown",
   "metadata": {},
   "source": [
    "\n",
    "Return an int array length 3 containing the first 3 digits of pi, {3, 1, 4}.\n",
    "\n",
    "make_pi() → [3, 1, 4]"
   ]
  },
  {
   "cell_type": "code",
   "execution_count": 402,
   "metadata": {},
   "outputs": [
    {
     "name": "stdout",
     "output_type": "stream",
     "text": [
      "[3, 1, 4]\n"
     ]
    }
   ],
   "source": [
    "import math\n",
    "\n",
    "def make_pi():\n",
    "    piNum = str(math.pi)\n",
    "    number = piNum.replace(\".\", \"\")\n",
    "    return [int(number[0]),int(number[1]),int(number[2])]\n",
    "  \n",
    "print(make_pi())"
   ]
  },
  {
   "cell_type": "markdown",
   "metadata": {},
   "source": [
    "Given 2 arrays of ints, a and b, return True if they have the same first element or they have the same last element. Both arrays will be length 1 or more.\n",
    "\n",
    "common_end([1, 2, 3], [7, 3]) → True\n",
    "common_end([1, 2, 3], [7, 3, 2]) → False\n",
    "common_end([1, 2, 3], [1, 3]) → True"
   ]
  },
  {
   "cell_type": "code",
   "execution_count": 403,
   "metadata": {},
   "outputs": [
    {
     "name": "stdout",
     "output_type": "stream",
     "text": [
      "True\n",
      "False\n",
      "True\n"
     ]
    }
   ],
   "source": [
    "def common_end(a, b):\n",
    "    if len(a) >= 1 and len(b) >= 1:\n",
    "        if a[0] == b[0] or a[-1] == b[-1]:\n",
    "            return True\n",
    "        return False\n",
    "  \n",
    "print(common_end([1, 2, 3], [7, 3]))\n",
    "print(common_end([1, 2, 3], [7, 3, 2]))\n",
    "print(common_end([1, 2, 3], [1, 3]))\n"
   ]
  },
  {
   "cell_type": "markdown",
   "metadata": {},
   "source": [
    "Given an array of ints length 3, return the sum of all the elements.\n",
    "\n",
    "sum3([1, 2, 3]) → 6\n",
    "sum3([5, 11, 2]) → 18\n",
    "sum3([7, 0, 0]) → 7"
   ]
  },
  {
   "cell_type": "code",
   "execution_count": 404,
   "metadata": {},
   "outputs": [
    {
     "name": "stdout",
     "output_type": "stream",
     "text": [
      "6\n",
      "18\n",
      "7\n"
     ]
    }
   ],
   "source": [
    "def sum3(nums):\n",
    "    sum = 0\n",
    "    for i in range(len(nums)):\n",
    "        sum += nums[i]\n",
    "    return sum\n",
    "  \n",
    "print(sum3([1, 2, 3]))\n",
    "print(sum3([5, 11, 2]))\n",
    "print(sum3([7, 0, 0]))\n"
   ]
  },
  {
   "cell_type": "markdown",
   "metadata": {},
   "source": [
    "Given an array of ints length 3, return an array with the elements \"rotated left\" so {1, 2, 3} yields {2, 3, 1}.\n",
    "\n",
    "rotate_left3([1, 2, 3]) → [2, 3, 1]\n",
    "rotate_left3([5, 11, 9]) → [11, 9, 5]\n",
    "rotate_left3([7, 0, 0]) → [0, 0, 7]"
   ]
  },
  {
   "cell_type": "code",
   "execution_count": 405,
   "metadata": {},
   "outputs": [
    {
     "name": "stdout",
     "output_type": "stream",
     "text": [
      "[2, 3, 1]\n",
      "[11, 9, 5]\n",
      "[0, 0, 7]\n"
     ]
    }
   ],
   "source": [
    "def rotate_left3(nums):\n",
    "    result = [nums[1], nums[2], nums[0]]\n",
    "    return result\n",
    "  \n",
    "print(rotate_left3([1, 2, 3]))\n",
    "print(rotate_left3([5, 11, 9]))\n",
    "print(rotate_left3([7, 0, 0]))\n"
   ]
  },
  {
   "cell_type": "markdown",
   "metadata": {},
   "source": [
    "Given an array of ints length 3, return a new array with the elements in reverse order, so {1, 2, 3} becomes {3, 2, 1}.\n",
    "\n",
    "reverse3([1, 2, 3]) → [3, 2, 1]\n",
    "reverse3([5, 11, 9]) → [9, 11, 5]\n",
    "reverse3([7, 0, 0]) → [0, 0, 7]"
   ]
  },
  {
   "cell_type": "code",
   "execution_count": 406,
   "metadata": {},
   "outputs": [
    {
     "name": "stdout",
     "output_type": "stream",
     "text": [
      "[3, 2, 1]\n",
      "[9, 11, 5]\n",
      "[0, 0, 7]\n"
     ]
    }
   ],
   "source": [
    "def reverse3(nums):\n",
    "    # convert to list because reversed will create a object\n",
    "    reverse = list(reversed(nums)) \n",
    "    return reverse\n",
    "  \n",
    "print(reverse3([1, 2, 3]))\n",
    "print(reverse3([5, 11, 9]))\n",
    "print(reverse3([7, 0, 0]))\n"
   ]
  },
  {
   "cell_type": "markdown",
   "metadata": {},
   "source": [
    "Given an array of ints length 3, figure out which is larger, the first or last element in the array, and set all the other elements to be that value. Return the changed array.\n",
    "\n",
    "max_end3([1, 2, 3]) → [3, 3, 3]\n",
    "max_end3([11, 5, 9]) → [11, 11, 11]\n",
    "max_end3([2, 11, 3]) → [3, 3, 3]"
   ]
  },
  {
   "cell_type": "code",
   "execution_count": 407,
   "metadata": {},
   "outputs": [
    {
     "name": "stdout",
     "output_type": "stream",
     "text": [
      "[3, 3, 3]\n",
      "[11, 11, 11]\n",
      "[3, 3, 3]\n"
     ]
    }
   ],
   "source": [
    "def max_end3(nums):\n",
    "    big = max(nums[0], nums[-1])\n",
    "    nums[0] = big\n",
    "    nums[1] = big\n",
    "    nums[2] = big\n",
    "    return nums\n",
    "\n",
    "print(max_end3([1, 2, 3]))\n",
    "print(max_end3([11, 5, 9]))\n",
    "print(max_end3([2, 11, 3]))"
   ]
  },
  {
   "cell_type": "code",
   "execution_count": 408,
   "metadata": {},
   "outputs": [
    {
     "name": "stdout",
     "output_type": "stream",
     "text": [
      "[3, 3, 3]\n",
      "[11, 11, 11]\n",
      "[3, 3, 3]\n"
     ]
    }
   ],
   "source": [
    "def max_end3(nums):\n",
    "    new = []\n",
    "    if nums[0] > nums[-1]:\n",
    "        new = [nums[0],nums[0],nums[0] ]\n",
    "        return new\n",
    "    else:\n",
    "        return [nums[-1],nums[-1], nums[-1]]\n",
    "  \n",
    "print(max_end3([1, 2, 3]))\n",
    "print(max_end3([11, 5, 9]))\n",
    "print(max_end3([2, 11, 3]))\n"
   ]
  },
  {
   "cell_type": "markdown",
   "metadata": {},
   "source": [
    "Given an array of ints, return the sum of the first 2 elements in the array. If the array length is less than 2, just sum up the elements that exist, returning 0 if the array is length 0.\n",
    "\n",
    "sum2([1, 2, 3]) → 3\n",
    "sum2([1, 1]) → 2\n",
    "sum2([1, 1, 1, 1]) → 2"
   ]
  },
  {
   "cell_type": "code",
   "execution_count": 409,
   "metadata": {},
   "outputs": [
    {
     "name": "stdout",
     "output_type": "stream",
     "text": [
      "3\n",
      "2\n",
      "2\n"
     ]
    }
   ],
   "source": [
    "def sum2(nums):\n",
    "    if len(nums) <= 0:\n",
    "        return 0\n",
    "    elif len(nums) == 1:\n",
    "        return nums[0]\n",
    "    else:\n",
    "        return nums[0] + nums[1]\n",
    "  \n",
    "print(sum2([1, 2, 3]))\n",
    "print(sum2([1, 1]))\n",
    "print(sum2([1, 1, 1, 1]))\n"
   ]
  },
  {
   "cell_type": "markdown",
   "metadata": {},
   "source": [
    "Given 2 int arrays, a and b, each length 3, return a new array length 2 containing their middle elements.\n",
    "\n",
    "middle_way([1, 2, 3], [4, 5, 6]) → [2, 5]\n",
    "middle_way([7, 7, 7], [3, 8, 0]) → [7, 8]\n",
    "middle_way([5, 2, 9], [1, 4, 5]) → [2, 4]"
   ]
  },
  {
   "cell_type": "code",
   "execution_count": 410,
   "metadata": {},
   "outputs": [
    {
     "name": "stdout",
     "output_type": "stream",
     "text": [
      "[2, 5]\n",
      "[7, 8]\n",
      "[2, 4]\n"
     ]
    }
   ],
   "source": [
    "def middle_way(a, b):\n",
    "    return [a[1], b[1]]\n",
    "  \n",
    "print(middle_way([1, 2, 3], [4, 5, 6]))\n",
    "print(middle_way([7, 7, 7], [3, 8, 0]))\n",
    "print(middle_way([5, 2, 9], [1, 4, 5]))\n"
   ]
  },
  {
   "cell_type": "markdown",
   "metadata": {},
   "source": [
    "Given an array of ints, return a new array length 2 containing the first and last elements from the original array. The original array will be length 1 or more.\n",
    "\n",
    "make_ends([1, 2, 3]) → [1, 3]\n",
    "make_ends([1, 2, 3, 4]) → [1, 4]\n",
    "make_ends([7, 4, 6, 2]) → [7, 2]"
   ]
  },
  {
   "cell_type": "code",
   "execution_count": 411,
   "metadata": {},
   "outputs": [
    {
     "name": "stdout",
     "output_type": "stream",
     "text": [
      "[1, 3]\n",
      "[1, 4]\n",
      "[7, 2]\n"
     ]
    }
   ],
   "source": [
    "def make_ends(nums):\n",
    "    if len(nums) >= 1:\n",
    "        return [nums[0], nums[-1]]\n",
    "  \n",
    "print(make_ends([1, 2, 3]))\n",
    "print(make_ends([1, 2, 3, 4]))\n",
    "print(make_ends([7, 4, 6, 2]))\n"
   ]
  },
  {
   "cell_type": "markdown",
   "metadata": {},
   "source": [
    "Given an int array length 2, return True if it contains a 2 or a 3.\n",
    "\n",
    "has23([2, 5]) → True\n",
    "has23([4, 3]) → True\n",
    "has23([4, 5]) → False"
   ]
  },
  {
   "cell_type": "code",
   "execution_count": 412,
   "metadata": {},
   "outputs": [
    {
     "name": "stdout",
     "output_type": "stream",
     "text": [
      "2\n",
      "True\n",
      "3\n",
      "True\n",
      "False\n"
     ]
    }
   ],
   "source": [
    "def has23(nums):\n",
    "    for i in range(len(nums)):\n",
    "        if nums[i] == 2 or nums[i] == 3:\n",
    "            print(nums[i])\n",
    "            return True\n",
    "        \n",
    "    return False\n",
    "  \n",
    "\n",
    "print(has23([2, 5]))\n",
    "print(has23([4, 3]))\n",
    "print(has23([4, 5]))\n"
   ]
  },
  {
   "cell_type": "markdown",
   "metadata": {},
   "source": [
    "When squirrels get together for a party, they like to have cigars. A squirrel party is successful when the number of cigars is between 40 and 60, inclusive. Unless it is the weekend, in which case there is no upper bound on the number of cigars. Return True if the party with the given values is successful, or False otherwise.\n",
    "\n",
    "cigar_party(30, False) → False\n",
    "cigar_party(30, True) → False\n",
    "cigar_party(70, True) → True\n",
    "cigar_party(50, False) → True"
   ]
  },
  {
   "cell_type": "code",
   "execution_count": 413,
   "metadata": {},
   "outputs": [
    {
     "name": "stdout",
     "output_type": "stream",
     "text": [
      "False\n",
      "False\n",
      "True\n",
      "True\n",
      "False\n",
      "True\n"
     ]
    }
   ],
   "source": [
    "def cigar_party(cigars, is_weekend):\n",
    "    \n",
    "    # festa de sucesso se o numero de cigarros esta entre 40 e 60\n",
    "    # se for fds caso nao há limite de charutos, retorna true - sucesso\n",
    "    if is_weekend == True:\n",
    "        if cigars >= 40:\n",
    "            return True\n",
    "        return False\n",
    "    \n",
    "    if cigars >= 40 and cigars <= 60:\n",
    "        return True\n",
    "    return False\n",
    "\n",
    "\n",
    "print(cigar_party(30, False))\n",
    "print(cigar_party(30, True))\n",
    "print(cigar_party(70, True))\n",
    "print(cigar_party(50, False))\n",
    "print(cigar_party(61, False))\n",
    "print(cigar_party(40, True))\n"
   ]
  },
  {
   "cell_type": "markdown",
   "metadata": {},
   "source": [
    "You and your date are trying to get a table at a restaurant. The parameter \"you\" is the stylishness of your clothes, in the range 0..10, and \"date\" is the stylishness of your date's clothes. The result getting the table is encoded as an int value with 0=no, 1=maybe, 2=yes. If either of you is very stylish, 8 or more, then the result is 2 (yes). With the exception that if either of you has style of 2 or less, then the result is 0 (no). Otherwise the result is 1 (maybe).\n",
    "\n",
    "date_fashion(5, 10) → 2\n",
    "date_fashion(5, 2) → 0\n",
    "date_fashion(5, 5) → 1"
   ]
  },
  {
   "cell_type": "code",
   "execution_count": 414,
   "metadata": {},
   "outputs": [
    {
     "name": "stdout",
     "output_type": "stream",
     "text": [
      "2\n",
      "0\n",
      "1\n",
      "0 nota: 0\n",
      "0 nota: 0\n"
     ]
    }
   ],
   "source": [
    "def date_fashion(you, date):\n",
    "    # 0 = nao\n",
    "    noStylish = 0\n",
    "    # 1 = talvez\n",
    "    maybe = 1\n",
    "    # 2 = estiloso\n",
    "    veryStilish = 2\n",
    "\n",
    "    result = noStylish\n",
    "\n",
    "    # sou bem estilosa se eu tiver >= 8 pontos = resultado 2\n",
    "    # sou menos estilosa se eu tiver <= 2 pontos = resultado 0\n",
    "    # sou moderada se eu estiver >= 3 ou <= 7 = resultado 1\n",
    "\n",
    "    # se um de nós dois estiver com a pontuacao >= 8 o casal é estiloso\n",
    "    if you <= 2 or date <= 2:\n",
    "        return result\n",
    "    \n",
    "    elif you >= 8 or date >= 8:\n",
    "        result = veryStilish\n",
    "        return result\n",
    "    \n",
    "    else:\n",
    "        result = maybe\n",
    "        return result\n",
    "    \n",
    "\n",
    "\n",
    "print(date_fashion(5, 10))\n",
    "print(date_fashion(5, 2))\n",
    "print(date_fashion(5, 5))\n",
    "print(date_fashion(10, 2), \"nota: 0\")\n",
    "print(date_fashion(2, 9), \"nota: 0\")\n",
    "\n"
   ]
  },
  {
   "cell_type": "markdown",
   "metadata": {},
   "source": [
    "The squirrels in Palo Alto spend most of the day playing. In particular, they play if the temperature is between 60 and 90 (inclusive). Unless it is summer, then the upper limit is 100 instead of 90. Given an int temperature and a boolean is_summer, return True if the squirrels play and False otherwise.\n",
    "\n",
    "squirrel_play(70, False) → True\n",
    "squirrel_play(95, False) → False\n",
    "squirrel_play(95, True) → True"
   ]
  },
  {
   "cell_type": "code",
   "execution_count": 415,
   "metadata": {},
   "outputs": [
    {
     "name": "stdout",
     "output_type": "stream",
     "text": [
      "True should return true\n",
      "False should return false\n",
      "True should return true\n",
      "False should return false\n",
      "False should return false\n",
      "False should return false\n"
     ]
    }
   ],
   "source": [
    "def squirrel_play(temp, is_summer):\n",
    "\n",
    "    # play in temp if 60 to 90\n",
    "    # if is summer limit is 100 instead of 90\n",
    "    if is_summer == True:\n",
    "        if temp >= 60 and temp <= 100:\n",
    "            return True\n",
    "        return False\n",
    "\n",
    "    if temp >= 60 and temp <= 90:\n",
    "        return True\n",
    "    return False\n",
    "\n",
    "    \n",
    "\n",
    "\n",
    "print(squirrel_play(70, False), \"should return true\")\n",
    "print(squirrel_play(95, False), \"should return false\")\n",
    "print(squirrel_play(95, True), \"should return true\")\n",
    "\n",
    "print(squirrel_play(50, True), \"should return false\")\n",
    "print(squirrel_play(105, True), \"should return false\")\n",
    "print(squirrel_play(59, True), \"should return false\")\n"
   ]
  },
  {
   "cell_type": "markdown",
   "metadata": {},
   "source": []
  },
  {
   "cell_type": "markdown",
   "metadata": {},
   "source": [
    "You are driving a little too fast, and a police officer stops you. Write code to compute the result, encoded as an int value: 0=no ticket, 1=small ticket, 2=big ticket. If speed is 60 or less, the result is 0. If speed is between 61 and 80 inclusive, the result is 1. If speed is 81 or more, the result is 2. Unless it is your birthday -- on that day, your speed can be 5 higher in all cases.\n",
    "\n",
    "caught_speeding(60, False) → 0\n",
    "caught_speeding(65, False) → 1\n",
    "caught_speeding(65, True) → 0"
   ]
  },
  {
   "cell_type": "code",
   "execution_count": 416,
   "metadata": {},
   "outputs": [
    {
     "name": "stdout",
     "output_type": "stream",
     "text": [
      "0\n",
      "1\n",
      "0\n",
      "1 should return 1\n",
      "1 should return 1\n"
     ]
    }
   ],
   "source": [
    "def caught_speeding(speed, is_birthday):\n",
    "    if is_birthday == True:\n",
    "        if speed <= 65:\n",
    "            return 0\n",
    "        \n",
    "        elif speed > 65 and speed <= 85:\n",
    "            return 1\n",
    "        \n",
    "        else:\n",
    "            return 2\n",
    "        \n",
    "    if speed <= 60:\n",
    "        return 0\n",
    "    \n",
    "    elif speed >= 61 and speed <= 80:\n",
    "        return 1\n",
    "    \n",
    "    else:\n",
    "        return 2\n",
    "        \n",
    "\n",
    "\n",
    "print(caught_speeding(60, False))\n",
    "print(caught_speeding(65, False))\n",
    "print(caught_speeding(65, True))\n",
    "print(caught_speeding(75, True), \"should return 1\")\n",
    "print(caught_speeding(85, True) , \"should return 1\")\n",
    "\n",
    "\n"
   ]
  },
  {
   "cell_type": "markdown",
   "metadata": {},
   "source": [
    "Given 2 ints, a and b, return their sum. However, sums in the range 10..19 inclusive, are forbidden, so in that case just return 20.\n",
    "\n",
    "sorta_sum(3, 4) → 7\n",
    "sorta_sum(9, 4) → 20\n",
    "sorta_sum(10, 11) → 21"
   ]
  },
  {
   "cell_type": "code",
   "execution_count": 417,
   "metadata": {},
   "outputs": [
    {
     "name": "stdout",
     "output_type": "stream",
     "text": [
      "7\n",
      "20\n",
      "21\n"
     ]
    }
   ],
   "source": [
    "def sorta_sum(a, b):\n",
    "    sum = a + b\n",
    "\n",
    "    if sum >= 10 and sum <= 19:\n",
    "        return 20\n",
    "    else:\n",
    "        return sum\n",
    "    \n",
    "\n",
    "print(sorta_sum(3, 4))\n",
    "print(sorta_sum(9, 4))\n",
    "print(sorta_sum(10, 11))\n"
   ]
  },
  {
   "cell_type": "markdown",
   "metadata": {},
   "source": [
    "The number 6 is a truly great number. Given two int values, a and b, return True if either one is 6. Or if their sum or difference is 6. Note: the function abs(num) computes the absolute value of a number.\n",
    "\n",
    "love6(6, 4) → True\n",
    "love6(4, 5) → False\n",
    "love6(1, 5) → True"
   ]
  },
  {
   "cell_type": "code",
   "execution_count": 419,
   "metadata": {},
   "outputs": [
    {
     "name": "stdout",
     "output_type": "stream",
     "text": [
      "True\n",
      "False\n",
      "True\n",
      "True\n"
     ]
    }
   ],
   "source": [
    "def love6(a, b):\n",
    "    sum = a + b\n",
    "    sub = a - b\n",
    "    sub1 = sub * -1\n",
    "\n",
    "    if a == 6 or b == 6:\n",
    "        return True\n",
    "    \n",
    "    elif sum == 6 or sub == 6 or sub1 == 6:\n",
    "        return True\n",
    "    \n",
    "    return False\n",
    "\n",
    "print(love6(6, 4))\n",
    "print(love6(4, 5))\n",
    "print(love6(1, 5))\n",
    "print(love6(1, 7))\n"
   ]
  },
  {
   "cell_type": "markdown",
   "metadata": {},
   "source": [
    "Given a number n, return True if n is in the range 1..10, inclusive. Unless outside_mode is True, in which case return True if the number is less or equal to 1, or greater or equal to 10.\n",
    "\n",
    "in1to10(5, False) → True\n",
    "in1to10(11, False) → False\n",
    "in1to10(11, True) → True"
   ]
  },
  {
   "cell_type": "code",
   "execution_count": null,
   "metadata": {},
   "outputs": [],
   "source": [
    "def in1to10(n, outside_mode):\n",
    "\n",
    "    if outside_mode == True:\n",
    "        if n <= 1 or n >= 10:\n",
    "            return True\n",
    "        return False\n",
    "\n",
    "    if n >= 1 and n <= 10:\n",
    "        return True\n",
    "\n",
    "    return False\n",
    "\n",
    "\n",
    "# print(in1to10(5, False))\n",
    "# print(in1to10(11, False))\n",
    "print(in1to10(11, True))\n",
    "print(in1to10(9, True))\n",
    "print(in1to10(0, True))\n",
    "\n"
   ]
  },
  {
   "cell_type": "markdown",
   "metadata": {},
   "source": [
    "Given a non-negative number \"num\", return True if num is within 2 of a multiple of 10. Note: (a % b) is the remainder of dividing a by b, so (7 % 5) is 2. See also: Introduction to Mod\n",
    "\n",
    "near_ten(12) → True\n",
    "near_ten(17) → False\n",
    "near_ten(19) → True"
   ]
  },
  {
   "cell_type": "code",
   "execution_count": null,
   "metadata": {},
   "outputs": [],
   "source": [
    "def near_ten(num):\n",
    "   return not(2 < (num % 10) < 8)\n",
    "\n",
    "print(near_ten(12))\n",
    "print(near_ten(17))\n",
    "print(near_ten(19))\n"
   ]
  },
  {
   "cell_type": "markdown",
   "metadata": {},
   "source": [
    "We want to make a row of bricks that is goal inches long. We have a number of small bricks (1 inch each) and big bricks (5 inches each). Return True if it is possible to make the goal by choosing from the given bricks. This is a little harder than it looks and can be done without any loops. See also: Introduction to MakeBricks"
   ]
  },
  {
   "cell_type": "code",
   "execution_count": null,
   "metadata": {},
   "outputs": [],
   "source": [
    "def make_bricks(small, big, goal):\n",
    "    if(goal > big*5 + small):\n",
    "        return False\n",
    "    elif(goal % 5 > small):\n",
    "        return False\n",
    "    else:\n",
    "        return True\n",
    "  \n",
    "\n",
    "print(make_bricks(3, 1, 8))\n",
    "print(make_bricks(3, 1, 9))\n",
    "print(make_bricks(3, 2, 10))\n"
   ]
  },
  {
   "cell_type": "markdown",
   "metadata": {},
   "source": [
    "Given 3 int values, a b c, return their sum. However, if one of the values is the same as another of the values, it does not count towards the sum.\n",
    "\n",
    "lone_sum(1, 2, 3) → 6\n",
    "lone_sum(3, 2, 3) → 2\n",
    "lone_sum(3, 3, 3) → 0"
   ]
  },
  {
   "cell_type": "code",
   "execution_count": null,
   "metadata": {},
   "outputs": [],
   "source": [
    "def lone_sum(a, b, c):\n",
    "    if (a != b and a != c and c != b):\n",
    "        return a + b + c\n",
    "    if(a == c and a != b):\n",
    "        return b\n",
    "    if(b == c and b != a):\n",
    "        return a\n",
    "    if(b == a and b != c):\n",
    "        return c\n",
    "    return 0\n",
    "\n",
    "\n",
    "  \n",
    "print(lone_sum(1, 2, 3))\n",
    "print(lone_sum(3, 2, 3))\n",
    "print(lone_sum(1, 3, 3))\n",
    "print(lone_sum(1, 1, 3))\n",
    "print(lone_sum(3, 3, 3))\n"
   ]
  },
  {
   "cell_type": "markdown",
   "metadata": {},
   "source": [
    "Given 3 int values, a b c, return their sum. However, if one of the values is 13 then it does not count towards the sum and values to its right do not count. So for example, if b is 13, then both b and c do not count.\n",
    "\n",
    "lucky_sum(1, 2, 3) → 6\n",
    "lucky_sum(1, 2, 13) → 3\n",
    "lucky_sum(1, 13, 3) → "
   ]
  },
  {
   "cell_type": "code",
   "execution_count": null,
   "metadata": {},
   "outputs": [],
   "source": [
    "def lucky_sum(a, b, c):\n",
    "\n",
    "    if( a != 13 and b != 13 and c != 13):\n",
    "        return a + b + c\n",
    "    if( a == 13 ):\n",
    "        return 0\n",
    "    if( b == 13 ):\n",
    "        return a\n",
    "    if( c == 13 ):\n",
    "        return a + b\n",
    "\n",
    "\n",
    "print(lucky_sum(1, 2, 3))\n",
    "print(lucky_sum(13, 1, 3))\n",
    "print(lucky_sum(1, 13, 3))\n",
    "print(lucky_sum(1, 2, 13))\n",
    "\n"
   ]
  },
  {
   "cell_type": "markdown",
   "metadata": {},
   "source": [
    "Given 3 int values, a b c, return their sum. However, if any of the values is a teen -- in the range 13..19 inclusive -- then that value counts as 0, except 15 and 16 do not count as a teens. Write a separate helper \"def fix_teen(n):\"that takes in an int value and returns that value fixed for the teen rule. In this way, you avoid repeating the teen code 3 times (i.e. \"decomposition\"). Define the helper below and at the same indent level as the main no_teen_sum().\n",
    "\n",
    "\n",
    "no_teen_sum(1, 2, 3) → 6\n",
    "no_teen_sum(2, 13, 1) → 3\n",
    "no_teen_sum(2, 1, 14) → 3"
   ]
  },
  {
   "cell_type": "code",
   "execution_count": 22,
   "metadata": {},
   "outputs": [
    {
     "ename": "TypeError",
     "evalue": "fix_teen() missing 1 required positional argument: 'n'",
     "output_type": "error",
     "traceback": [
      "\u001b[0;31m---------------------------------------------------------------------------\u001b[0m",
      "\u001b[0;31mTypeError\u001b[0m                                 Traceback (most recent call last)",
      "Cell \u001b[0;32mIn[22], line 13\u001b[0m\n\u001b[1;32m      7\u001b[0m             \u001b[39mreturn\u001b[39;00m \u001b[39m0\u001b[39m\n\u001b[1;32m      9\u001b[0m     fix_teen()\n\u001b[0;32m---> 13\u001b[0m \u001b[39mprint\u001b[39m(no_teen_sum(\u001b[39m1\u001b[39;49m, \u001b[39m2\u001b[39;49m, \u001b[39m3\u001b[39;49m) )\n\u001b[1;32m     14\u001b[0m \u001b[39mprint\u001b[39m(no_teen_sum(\u001b[39m2\u001b[39m, \u001b[39m13\u001b[39m, \u001b[39m1\u001b[39m))\n\u001b[1;32m     15\u001b[0m \u001b[39mprint\u001b[39m(no_teen_sum(\u001b[39m2\u001b[39m, \u001b[39m1\u001b[39m, \u001b[39m14\u001b[39m))\n",
      "Cell \u001b[0;32mIn[22], line 9\u001b[0m, in \u001b[0;36mno_teen_sum\u001b[0;34m(a, b, c)\u001b[0m\n\u001b[1;32m      6\u001b[0m             \u001b[39mreturn\u001b[39;00m n\n\u001b[1;32m      7\u001b[0m         \u001b[39mreturn\u001b[39;00m \u001b[39m0\u001b[39m\n\u001b[0;32m----> 9\u001b[0m fix_teen()\n",
      "\u001b[0;31mTypeError\u001b[0m: fix_teen() missing 1 required positional argument: 'n'"
     ]
    }
   ],
   "source": [
    "def no_teen_sum(a, b, c):\n",
    "# if any of the values is a teen -- in the range 13..19 inclusive -- then that value counts as 0, except 15 and 16 do not count as a teens\n",
    "    def fix_teen(n):\n",
    "        if (n >= 13 and n <= 19):\n",
    "            if( n == 15 or n == 16):\n",
    "                return n\n",
    "            return 0\n",
    "        \n",
    "    return fix_teen()\n",
    "\n",
    "     \n",
    "  \n",
    "print(no_teen_sum(1, 2, 3) )\n",
    "print(no_teen_sum(2, 13, 1))\n",
    "print(no_teen_sum(2, 1, 14))\n"
   ]
  },
  {
   "cell_type": "markdown",
   "metadata": {},
   "source": []
  },
  {
   "cell_type": "code",
   "execution_count": null,
   "metadata": {},
   "outputs": [],
   "source": []
  },
  {
   "cell_type": "markdown",
   "metadata": {},
   "source": []
  },
  {
   "cell_type": "code",
   "execution_count": null,
   "metadata": {},
   "outputs": [],
   "source": []
  },
  {
   "cell_type": "markdown",
   "metadata": {},
   "source": []
  },
  {
   "cell_type": "code",
   "execution_count": null,
   "metadata": {},
   "outputs": [],
   "source": []
  },
  {
   "cell_type": "markdown",
   "metadata": {},
   "source": []
  }
 ],
 "metadata": {
  "kernelspec": {
   "display_name": "Python 3",
   "language": "python",
   "name": "python3"
  },
  "language_info": {
   "codemirror_mode": {
    "name": "ipython",
    "version": 3
   },
   "file_extension": ".py",
   "mimetype": "text/x-python",
   "name": "python",
   "nbconvert_exporter": "python",
   "pygments_lexer": "ipython3",
   "version": "3.8.12"
  },
  "orig_nbformat": 4
 },
 "nbformat": 4,
 "nbformat_minor": 2
}

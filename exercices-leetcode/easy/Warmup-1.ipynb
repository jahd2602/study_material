{
 "cells": [
  {
   "cell_type": "markdown",
   "metadata": {},
   "source": [
    "\n",
    "The parameter weekday is True if it is a weekday, and the parameter vacation is True if we are on vacation. We sleep in if it is not a weekday or we're on vacation. Return True if we sleep in.\n",
    "\n",
    "\n",
    "sleep_in(False, False) → True\n",
    "sleep_in(True, False) → False\n",
    "sleep_in(False, True) → True"
   ]
  },
  {
   "cell_type": "code",
   "execution_count": 1,
   "metadata": {},
   "outputs": [
    {
     "data": {
      "text/plain": [
       "True"
      ]
     },
     "execution_count": 1,
     "metadata": {},
     "output_type": "execute_result"
    }
   ],
   "source": [
    "def sleep_in(weekday, vacation):\n",
    "  if not weekday or vacation:\n",
    "    return True\n",
    "  else:\n",
    "    return False\n",
    "\n",
    "\n",
    "sleep_in(False, False)\n",
    "sleep_in(True, False)\n",
    "sleep_in(False, True)"
   ]
  },
  {
   "cell_type": "markdown",
   "metadata": {},
   "source": [
    "Warmup-1 > monkey_trouble\n",
    "prev  |  next  |  chance\n",
    "We have two monkeys, a and b, and the parameters a_smile and b_smile indicate if each is smiling. We are in trouble if they are both smiling or if neither of them is smiling. Return True if we are in trouble.\n",
    "\n",
    "\n",
    "monkey_trouble(True, True) → True\n",
    "monkey_trouble(False, False) → True\n",
    "monkey_trouble(True, False) → False"
   ]
  },
  {
   "cell_type": "code",
   "execution_count": 2,
   "metadata": {},
   "outputs": [],
   "source": [
    "def monkey_trouble(a_smile, b_smile):\n",
    "  if a_smile and b_smile:\n",
    "    return True\n",
    "  elif not a_smile and not b_smile:\n",
    "    return True\n",
    "  else:\n",
    "    return False\n",
    "  "
   ]
  },
  {
   "cell_type": "markdown",
   "metadata": {},
   "source": [
    "\n",
    "Given two int values, return their sum. Unless the two values are the same, then return double their sum.\n",
    "\n",
    "\n",
    "sum_double(1, 2) → 3\n",
    "sum_double(3, 2) → 5\n",
    "sum_double(2, 2) → 8"
   ]
  },
  {
   "cell_type": "code",
   "execution_count": 3,
   "metadata": {},
   "outputs": [],
   "source": [
    "def sum_double(a, b):\n",
    "  if a != b:\n",
    "    return a + b\n",
    "  else:\n",
    "    return (a + b)* 2 \n",
    "  "
   ]
  },
  {
   "cell_type": "markdown",
   "metadata": {},
   "source": [
    "\n",
    "Given an int n, return the absolute difference between n and 21, except return double the absolute difference if n is over 21.\n",
    "\n",
    "\n",
    "diff21(19) → 2\n",
    "diff21(10) → 11\n",
    "diff21(21) → 0"
   ]
  },
  {
   "cell_type": "code",
   "execution_count": 4,
   "metadata": {},
   "outputs": [],
   "source": [
    "def diff21(n):\n",
    "  if n >= 21:\n",
    "    return (n - 21)*2\n",
    "  else:\n",
    "    return 21 - n"
   ]
  },
  {
   "cell_type": "markdown",
   "metadata": {},
   "source": [
    "We have a loud talking parrot. The \"hour\" parameter is the current hour time in the range 0..23. We are in trouble if the parrot is talking and the hour is before 7 or after 20. Return True if we are in trouble.\n",
    "\n",
    "\n",
    "parrot_trouble(True, 6) → True\n",
    "parrot_trouble(True, 7) → False\n",
    "parrot_trouble(False, 6) → False"
   ]
  },
  {
   "cell_type": "code",
   "execution_count": 5,
   "metadata": {},
   "outputs": [],
   "source": [
    "def parrot_trouble(talking, hour):\n",
    "  if talking:\n",
    "    if hour < 7 or hour > 20:\n",
    "      return True\n",
    "    else:\n",
    "      return False\n",
    "      \n",
    "  elif not talking:\n",
    "    if hour <= 7 or hour >= 20:\n",
    "      return False\n",
    "    else:\n",
    "      return True"
   ]
  },
  {
   "cell_type": "markdown",
   "metadata": {},
   "source": [
    "Given 2 ints, a and b, return True if one if them is 10 or if their sum is 10.\n",
    "\n",
    "makes10(9, 10) → True\n",
    "makes10(9, 9) → False\n",
    "makes10(1, 9) → True"
   ]
  },
  {
   "cell_type": "code",
   "execution_count": 6,
   "metadata": {},
   "outputs": [],
   "source": [
    "def makes10(a, b):\n",
    "  if a + b == 10 or a == 10 or b == 10:\n",
    "    return True\n",
    "  else:\n",
    "    return False\n"
   ]
  },
  {
   "cell_type": "markdown",
   "metadata": {},
   "source": [
    "Given an int n, return True if it is within 10 of 100 or 200. Note: abs(num) computes the absolute value of a number.\n",
    "\n",
    "near_hundred(93) → True\n",
    "near_hundred(90) → True\n",
    "near_hundred(89) → False"
   ]
  },
  {
   "cell_type": "code",
   "execution_count": 7,
   "metadata": {},
   "outputs": [],
   "source": [
    "def near_hundred(n):\n",
    "   return ((abs(100 -n) <= 10) or (abs(200 - n) <= 10))\n",
    "    \n"
   ]
  },
  {
   "cell_type": "markdown",
   "metadata": {},
   "source": [
    "Given 2 int values, return True if one is negative and one is positive. Except if the parameter \"negative\" is True, then return True only if both are negative.\n",
    "\n",
    "\n",
    "pos_neg(1, -1, False) → True\n",
    "pos_neg(-1, 1, False) → True\n",
    "pos_neg(-4, -5, True) → True"
   ]
  },
  {
   "cell_type": "code",
   "execution_count": 8,
   "metadata": {},
   "outputs": [],
   "source": [
    "def pos_neg(a, b, negative):\n",
    "  if negative:\n",
    "    return ( a < 0 and b < 0)\n",
    "      \n",
    "  else:\n",
    "    return ((a < 0 and b > 0) or (a > 0 and b < 0))"
   ]
  },
  {
   "cell_type": "markdown",
   "metadata": {},
   "source": [
    "Given a string, return a new string where \"not \" has been added to the front. However, if the string already begins with \"not\", return the string unchanged.\n",
    "\n",
    "\n",
    "not_string('candy') → 'not candy'\n",
    "not_string('x') → 'not x'\n",
    "not_string('not bad') → 'not bad'"
   ]
  },
  {
   "cell_type": "code",
   "execution_count": 9,
   "metadata": {},
   "outputs": [],
   "source": [
    "def not_string(str):\n",
    "    if str[:3] != \"not\":\n",
    "        return \"not \" + str\n",
    "    else:\n",
    "        return str"
   ]
  },
  {
   "cell_type": "markdown",
   "metadata": {},
   "source": [
    "Given a non-empty string and an int n, return a new string where the char at index n has been removed. The value of n will be a valid index of a char in the original string (i.e. n will be in the range 0..len(str)-1 inclusive).\n",
    "\n",
    "\n",
    "missing_char('kitten', 1) → 'ktten'\n",
    "missing_char('kitten', 0) → 'itten'\n",
    "missing_char('kitten', 4) → 'kittn'"
   ]
  },
  {
   "cell_type": "code",
   "execution_count": 10,
   "metadata": {},
   "outputs": [
    {
     "data": {
      "text/plain": [
       "'ktten'"
      ]
     },
     "execution_count": 10,
     "metadata": {},
     "output_type": "execute_result"
    }
   ],
   "source": [
    "def missing_char(str, n):\n",
    "  front = str[:n]   # up to but not including n\n",
    "  back = str[n+1:]  # n+1 through end of string\n",
    "  return front + back\n",
    "    \n",
    "missing_char('kitten', 1)"
   ]
  },
  {
   "cell_type": "markdown",
   "metadata": {},
   "source": [
    "Given a string, return a new string where the first and last chars have been exchanged.\n",
    "\n",
    "front_back('code') → 'eodc'\n",
    "front_back('a') → 'a'\n",
    "front_back('ab') → 'ba'"
   ]
  },
  {
   "cell_type": "code",
   "execution_count": 11,
   "metadata": {},
   "outputs": [
    {
     "name": "stdout",
     "output_type": "stream",
     "text": [
      "eodc\n",
      "a\n",
      "ba\n",
      "cba\n",
      "ehocolatc\n",
      "java\n",
      "oellh\n",
      "\n"
     ]
    }
   ],
   "source": [
    "def front_back(str):\n",
    "    if len(str) >= 2:\n",
    "        first = str[0]\n",
    "        last = str[-1]\n",
    "        temp = ''\n",
    "\n",
    "        temp = last\n",
    "        last = first\n",
    "        first = temp\n",
    "        middle = str[1:-1]\n",
    "        string = first + middle + last\n",
    "        return string\n",
    "    elif len(str) == 0:\n",
    "        return ''\n",
    "    else:\n",
    "        return str\n",
    "\n",
    "print(front_back('code'))\n",
    "print(front_back('a'))\n",
    "print(front_back('ab'))\n",
    "print(front_back('abc'))\n",
    "print(front_back('chocolate'))\n",
    "print(front_back('aavj'))\n",
    "print(front_back('hello'))\n",
    "print(front_back(''))"
   ]
  },
  {
   "cell_type": "markdown",
   "metadata": {},
   "source": [
    "Given a string, we'll say that the front is the first 3 chars of the string. If the string length is less than 3, the front is whatever is there. Return a new string which is 3 copies of the front.\n",
    "\n",
    "front3('Java') → 'JavJavJav'\n",
    "front3('Chocolate') → 'ChoChoCho'\n",
    "front3('abc') → 'abcabcabc'"
   ]
  },
  {
   "cell_type": "code",
   "execution_count": 17,
   "metadata": {},
   "outputs": [
    {
     "name": "stdout",
     "output_type": "stream",
     "text": [
      "JavJavJav\n",
      "ChoChoCho\n",
      "abcabcabc\n",
      "ababab\n",
      "\n"
     ]
    }
   ],
   "source": [
    "def front3(str):\n",
    "    return str[:3] * 3\n",
    "\n",
    "print(front3('Java'))\n",
    "print(front3('Chocolate'))\n",
    "print(front3('abc'))\n",
    "print(front3('ab'))\n",
    "print(front3(''))"
   ]
  },
  {
   "cell_type": "markdown",
   "metadata": {},
   "source": [
    "Given a string and a non-negative int n, return a larger string that is n copies of the original string.\n",
    "\n",
    "string_times('Hi', 2) → 'HiHi'\n",
    "string_times('Hi', 3) → 'HiHiHi'\n",
    "string_times('Hi', 1) → 'Hi'"
   ]
  },
  {
   "cell_type": "code",
   "execution_count": 1,
   "metadata": {},
   "outputs": [
    {
     "name": "stdout",
     "output_type": "stream",
     "text": [
      "HiHi\n",
      "HiHiHi\n",
      "Hi\n",
      "\n"
     ]
    }
   ],
   "source": [
    "def string_times(str, n):\n",
    "    return str * n\n",
    "\n",
    "print(string_times('Hi', 2))\n",
    "print(string_times('Hi', 3))\n",
    "print(string_times('Hi', 1))\n",
    "print(string_times('Hi', 0))\n"
   ]
  },
  {
   "cell_type": "markdown",
   "metadata": {},
   "source": [
    "Given a string and a non-negative int n, we'll say that the front of the string is the first 3 chars, or whatever is there if the string is less than length 3. Return n copies of the front;\n",
    "\n",
    "front_times('Chocolate', 2) → 'ChoCho'\n",
    "front_times('Chocolate', 3) → 'ChoChoCho'\n",
    "front_times('Abc', 3) → 'AbcAbcAbc'"
   ]
  },
  {
   "cell_type": "code",
   "execution_count": 2,
   "metadata": {},
   "outputs": [
    {
     "name": "stdout",
     "output_type": "stream",
     "text": [
      "ChoCho\n",
      "ChoChoCho\n",
      "AbcAbcAbc\n",
      "\n"
     ]
    }
   ],
   "source": [
    "def front_times(str, n):\n",
    "    return str[:3] * n\n",
    "\n",
    "  \n",
    "\n",
    "print(front_times('Chocolate', 2))\n",
    "print(front_times('Chocolate', 3))\n",
    "print(front_times('Abc', 3))\n",
    "print(front_times('Hi', 0))"
   ]
  },
  {
   "cell_type": "markdown",
   "metadata": {},
   "source": [
    "Given a string, return a new string made of every other char starting with the first, so \"Hello\" yields \"Hlo\".\n",
    "\n",
    "string_bits('Hello') → 'Hlo'\n",
    "string_bits('Hi') → 'H'\n",
    "string_bits('Heeololeo') → 'Hello'"
   ]
  },
  {
   "cell_type": "code",
   "execution_count": 6,
   "metadata": {},
   "outputs": [
    {
     "name": "stdout",
     "output_type": "stream",
     "text": [
      "Hlo\n",
      "H\n",
      "Hello\n",
      "\n"
     ]
    }
   ],
   "source": [
    "def string_bits(str):\n",
    "    string = \"\"\n",
    "\n",
    "    for i in range(len(str)):\n",
    "        if i % 2 == 0:\n",
    "            string = string + str[i]\n",
    "    return string\n",
    "\n",
    "\n",
    "print(string_bits('Hello'))\n",
    "print(string_bits('Hi'))\n",
    "print(string_bits('Heeololeo'))\n",
    "print(string_bits(''))"
   ]
  },
  {
   "cell_type": "markdown",
   "metadata": {},
   "source": []
  },
  {
   "cell_type": "code",
   "execution_count": null,
   "metadata": {},
   "outputs": [],
   "source": []
  },
  {
   "cell_type": "markdown",
   "metadata": {},
   "source": []
  },
  {
   "cell_type": "code",
   "execution_count": null,
   "metadata": {},
   "outputs": [],
   "source": []
  },
  {
   "cell_type": "markdown",
   "metadata": {},
   "source": []
  },
  {
   "cell_type": "code",
   "execution_count": null,
   "metadata": {},
   "outputs": [],
   "source": []
  },
  {
   "cell_type": "markdown",
   "metadata": {},
   "source": []
  }
 ],
 "metadata": {
  "kernelspec": {
   "display_name": "Python 3",
   "language": "python",
   "name": "python3"
  },
  "language_info": {
   "codemirror_mode": {
    "name": "ipython",
    "version": 3
   },
   "file_extension": ".py",
   "mimetype": "text/x-python",
   "name": "python",
   "nbconvert_exporter": "python",
   "pygments_lexer": "ipython3",
   "version": "3.8.12"
  },
  "orig_nbformat": 4
 },
 "nbformat": 4,
 "nbformat_minor": 2
}

{
 "cells": [
  {
   "cell_type": "code",
   "execution_count": null,
   "metadata": {},
   "outputs": [],
   "source": [
    "# Given an array of integers nums which is sorted in ascending order, and an integer target, write a function to search target in nums. If target exists, then return its index. Otherwise, return -1.\n",
    "\n",
    "# You must write an algorithm with O(log n) runtime complexity.\n",
    "\n",
    "# Input: nums = [-1,0,3,5,9,12], target = 9\n",
    "# Output: 4\n",
    "# Explanation: 9 exists in nums and its index is 4\n",
    "\n",
    "# Input: nums = [-1,0,3,5,9,12], target = 2\n",
    "# Output: -1\n",
    "# Explanation: 2 does not exist in nums so return -1\n"
   ]
  },
  {
   "cell_type": "code",
   "execution_count": 20,
   "metadata": {},
   "outputs": [
    {
     "ename": "KeyboardInterrupt",
     "evalue": "",
     "output_type": "error",
     "traceback": [
      "\u001b[0;31m---------------------------------------------------------------------------\u001b[0m",
      "\u001b[0;31mKeyboardInterrupt\u001b[0m                         Traceback (most recent call last)",
      "Cell \u001b[0;32mIn[20], line 23\u001b[0m\n\u001b[1;32m     17\u001b[0m             right \u001b[39m=\u001b[39m mid\n\u001b[1;32m     19\u001b[0m     \u001b[39mreturn\u001b[39;00m left\n\u001b[0;32m---> 23\u001b[0m solution(nums, target)  \n\u001b[1;32m     24\u001b[0m \u001b[39m# print(solution(nums, target))\u001b[39;00m\n",
      "Cell \u001b[0;32mIn[20], line 11\u001b[0m, in \u001b[0;36msolution\u001b[0;34m(nums, target)\u001b[0m\n\u001b[1;32m      8\u001b[0m right \u001b[39m=\u001b[39m \u001b[39mlen\u001b[39m(nums)\n\u001b[1;32m      9\u001b[0m \u001b[39m# print(\"left=\", nums[left], \"\\nright=\", nums[right])\u001b[39;00m\n\u001b[0;32m---> 11\u001b[0m \u001b[39mwhile\u001b[39;00m right \u001b[39m-\u001b[39;49m left \u001b[39m>\u001b[39;49m \u001b[39m1\u001b[39;49m:\n\u001b[1;32m     12\u001b[0m     mid \u001b[39m=\u001b[39m (right \u001b[39m-\u001b[39m left) \u001b[39m/\u001b[39m\u001b[39m/\u001b[39m \u001b[39m2\u001b[39m\n\u001b[1;32m     14\u001b[0m     \u001b[39mif\u001b[39;00m nums[mid] \u001b[39m<\u001b[39m\u001b[39m=\u001b[39m target:\n",
      "\u001b[0;31mKeyboardInterrupt\u001b[0m: "
     ]
    }
   ],
   "source": [
    "nums = [2,3,4,5,6,7]\n",
    "target = 6\n",
    "\n",
    "\n",
    "def solution(nums, target):\n",
    "\n",
    "    left = -1\n",
    "    right = len(nums)\n",
    "    # print(\"left=\", nums[left], \"\\nright=\", nums[right])\n",
    "\n",
    "    while right - left > 1:\n",
    "        mid = (right - left) // 2\n",
    "\n",
    "        if nums[mid] <= target:\n",
    "            left = mid\n",
    "        else:\n",
    "            right = mid\n",
    "    \n",
    "    return left\n",
    "\n",
    "\n",
    "\n",
    "solution(nums, target)  \n",
    "# print(solution(nums, target))\n"
   ]
  }
 ],
 "metadata": {
  "kernelspec": {
   "display_name": "Python 3",
   "language": "python",
   "name": "python3"
  },
  "language_info": {
   "codemirror_mode": {
    "name": "ipython",
    "version": 3
   },
   "file_extension": ".py",
   "mimetype": "text/x-python",
   "name": "python",
   "nbconvert_exporter": "python",
   "pygments_lexer": "ipython3",
   "version": "3.8.12"
  },
  "orig_nbformat": 4
 },
 "nbformat": 4,
 "nbformat_minor": 2
}

{
 "cells": [
  {
   "cell_type": "code",
   "execution_count": 18,
   "metadata": {},
   "outputs": [
    {
     "name": "stdout",
     "output_type": "stream",
     "text": [
      "None\n",
      "---\n",
      "( None ) L(None) R(None)\n",
      "---\n",
      "( 1 ) L(None) R(None)\n",
      "---\n",
      "( 2 ) L(None) R(( 1 ) L(None) R(None))\n",
      "---\n",
      "( 2 ) L(( 3 ) L(None) R(None)) R(( 1 ) L(None) R(None))\n",
      "---\n",
      "( 4 ) L(( 2 ) L(( 1 ) L(None) R(None)) R(( 3 ) L(None) R(None))) R(( 6 ) L(( 5 ) L(None) R(None)) R(( 7 ) L(None) R(None)))\n",
      "( 4 ) L(( 6 ) L(( 7 ) L(None) R(None)) R(( 5 ) L(None) R(None))) R(( 2 ) L(( 3 ) L(None) R(None)) R(( 1 ) L(None) R(None)))\n"
     ]
    }
   ],
   "source": [
    "# Definition for a binary tree node.\n",
    "\n",
    "# Input: root = [4,2,7,1,3,6,9]\n",
    "# Output: [4,7,2,9,6,3,1]\n",
    "\n",
    "#     input:     \n",
    "#           4\n",
    "#         l    r\n",
    "#         2    7\n",
    "#       l  r  l  r\n",
    "#       1  3  6  9\n",
    "\n",
    "# output:   \n",
    "#           4\n",
    "#         l    r\n",
    "#         7     2\n",
    "#       l  r  l  r\n",
    "#       9   6  3  1\n",
    "\n",
    "from typing import Optional\n",
    "\n",
    "\n",
    "class TreeNode:\n",
    "    def __init__(self, val=0, left=None, right=None):\n",
    "        self.val = val\n",
    "        self.left = left\n",
    "        self.right = right\n",
    "    \n",
    "    def __str__(self) -> str:\n",
    "        return f\"( {self.val} ) L({self.left}) R({self.right})\"\n",
    "\n",
    "\n",
    "class Solution:\n",
    "    def invertTree(self, root: Optional[TreeNode]) -> Optional[TreeNode]:\n",
    "        if root == None:\n",
    "            return None\n",
    "        rev_left = self.invertTree(root.right)\n",
    "        rev_right = self.invertTree(root.left)\n",
    "\n",
    "        return TreeNode(root.val, rev_left, rev_right)\n",
    "        \n",
    "print(Solution().invertTree(None))\n",
    "print(\"---\")\n",
    "print(Solution().invertTree(TreeNode(None)))\n",
    "print(\"---\")\n",
    "print(Solution().invertTree(TreeNode(1)))\n",
    "print(\"---\")\n",
    "print(Solution().invertTree(TreeNode(2, TreeNode(1))))\n",
    "print(\"---\")\n",
    "print(Solution().invertTree(TreeNode(2, TreeNode(1), TreeNode(3))))\n",
    "print(\"---\")\n",
    "input = TreeNode(4, TreeNode(2, TreeNode(1), TreeNode(3)), TreeNode(6, TreeNode(5), TreeNode(7)))\n",
    "print(input)\n",
    "print(Solution().invertTree(input))\n"
   ]
  }
 ],
 "metadata": {
  "kernelspec": {
   "display_name": "Python 3",
   "language": "python",
   "name": "python3"
  },
  "language_info": {
   "codemirror_mode": {
    "name": "ipython",
    "version": 3
   },
   "file_extension": ".py",
   "mimetype": "text/x-python",
   "name": "python",
   "nbconvert_exporter": "python",
   "pygments_lexer": "ipython3",
   "version": "3.8.12"
  },
  "orig_nbformat": 4
 },
 "nbformat": 4,
 "nbformat_minor": 2
}
